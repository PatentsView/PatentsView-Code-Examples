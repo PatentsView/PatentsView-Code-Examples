{
 "cells": [
  {
   "cell_type": "markdown",
   "metadata": {},
   "source": [
    "# Creating a local PatentsView clone using DuckDB"
   ]
  },
  {
   "cell_type": "markdown",
   "metadata": {},
   "source": [
    "## Imports and utilities"
   ]
  },
  {
   "cell_type": "code",
   "execution_count": null,
   "metadata": {},
   "outputs": [],
   "source": [
    "import duckdb\n",
    "from duckdb import DuckDBPyConnection\n",
    "from zipfile import ZipFile\n",
    "from urllib.request import urlopen\n",
    "from io import BytesIO\n",
    "import yaml\n",
    "\n",
    "def zipfile_from_url(filename: str, zipped_url: str):\n",
    "    \"\"\"Open file from remote ZIP archive.\"\"\"\n",
    "    with urlopen(zipped_url) as remote:\n",
    "        with ZipFile(BytesIO(remote.read())) as file:\n",
    "            return file.open(filename)\n",
    "\n",
    "def create_patentsview_table(con: DuckDBPyConnection, pv_database: str, table_name: str):\n",
    "    \"\"\"Download and save given PatentsView table in duckdb database, if it doesn't already exist.\"\"\"\n",
    "    filename = f\"{table_name}.tsv\"\n",
    "    url = f\"{pv_database}/{filename}.zip\"\n",
    "\n",
    "    existing_tables = con.sql(\"show tables\").df().name.values\n",
    "\n",
    "    if table_name not in existing_tables:\n",
    "        print(f\"Loading {table_name} from {url} ...\")\n",
    "        table = con.read_csv(zipfile_from_url(filename, url), delimiter=\"\\t\", all_varchar=True, header=True)\n",
    "        print(f\"Saving to duckdb database...\")\n",
    "        table.create(table_name)\n",
    "        print(\"Done.\")\n",
    "        existing_tables = con.sql(\"show tables\").df().name.values\n"
   ]
  },
  {
   "cell_type": "markdown",
   "metadata": {},
   "source": [
    "## PatentsView database cloning script"
   ]
  },
  {
   "cell_type": "markdown",
   "metadata": {},
   "source": [
    "Download all PV tables and save them to duckdb database. This is a large download and requires at least 50Gb of free disk space."
   ]
  },
  {
   "cell_type": "code",
   "execution_count": null,
   "metadata": {},
   "outputs": [],
   "source": [
    "# Create local DuckDB database.\n",
    "database_name = \"patentsview.ddb\"\n",
    "con = duckdb.connect(database_name)\n",
    "\n",
    "# Loading information about PatentsView data sources from `sources.yml` file.\n",
    "with open(\"sources.yml\") as file:\n",
    "    sources = yaml.safe_load(file)\n",
    "\n",
    "# Replicating all tables in the duckdb database\n",
    "for type, info in sources.items():\n",
    "    pv_database = info['database']  # Base URL to use for granted or pre-grant data downloads\n",
    "    tables = info['tables']  # List of tables\n",
    "    for table_name in tables:\n",
    "        create_patentsview_table(con, pv_database, table_name)"
   ]
  },
  {
   "cell_type": "markdown",
   "metadata": {},
   "source": [
    "## Example usage"
   ]
  },
  {
   "cell_type": "markdown",
   "metadata": {},
   "source": [
    "Show all tables:"
   ]
  },
  {
   "cell_type": "code",
   "execution_count": null,
   "metadata": {},
   "outputs": [],
   "source": [
    "con.sql(\"show all tables;\").df().head()"
   ]
  },
  {
   "cell_type": "markdown",
   "metadata": {},
   "source": [
    "Get a single table:"
   ]
  },
  {
   "cell_type": "code",
   "execution_count": null,
   "metadata": {},
   "outputs": [],
   "source": [
    "rawinventor = con.table(\"g_inventor_not_disambiguated\")\n",
    "rawinventor.limit(5).df()"
   ]
  },
  {
   "cell_type": "markdown",
   "metadata": {},
   "source": [
    "Joining multiple tables together:"
   ]
  },
  {
   "cell_type": "code",
   "execution_count": null,
   "metadata": {},
   "outputs": [],
   "source": [
    "rawinventor = con.table(\"g_inventor_not_disambiguated\")\n",
    "rawlocation = con.table(\"g_location_not_disambiguated\")\n",
    "patent = con.table(\"g_patent\")\n",
    "\n",
    "rawinventor.join(rawlocation, \"rawlocation_id\", how=\"left\").join(patent, \"patent_id\", how=\"left\").limit(5).df()"
   ]
  },
  {
   "cell_type": "markdown",
   "metadata": {},
   "source": [
    "## Using SQL in a notebook"
   ]
  },
  {
   "cell_type": "code",
   "execution_count": null,
   "metadata": {},
   "outputs": [],
   "source": [
    "# pip install jupysql jupysql duckdb-engine\n",
    "%load_ext sql\n",
    "%sql con\n",
    "%config SqlMagic.displaycon = False"
   ]
  },
  {
   "cell_type": "code",
   "execution_count": null,
   "metadata": {},
   "outputs": [],
   "source": [
    "%%sql\n",
    "SELECT *\n",
    "FROM g_patent\n",
    "LIMIT 5;"
   ]
  }
 ],
 "metadata": {
  "kernelspec": {
   "display_name": "base",
   "language": "python",
   "name": "python3"
  },
  "language_info": {
   "codemirror_mode": {
    "name": "ipython",
    "version": 3
   },
   "file_extension": ".py",
   "mimetype": "text/x-python",
   "name": "python",
   "nbconvert_exporter": "python",
   "pygments_lexer": "ipython3",
   "version": "3.12.4"
  }
 },
 "nbformat": 4,
 "nbformat_minor": 2
}
