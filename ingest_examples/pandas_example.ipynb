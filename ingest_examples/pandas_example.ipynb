{
 "cells": [
  {
   "cell_type": "markdown",
   "metadata": {},
   "source": [
    "## Loading a table by name"
   ]
  },
  {
   "cell_type": "markdown",
   "metadata": {},
   "source": [
    "Imports and utilities:"
   ]
  },
  {
   "cell_type": "code",
   "execution_count": null,
   "metadata": {},
   "outputs": [],
   "source": [
    "import csv\n",
    "import pandas as pd\n",
    "\n",
    "def load_patentsview_table(table_name: str, **kwargs):\n",
    "    \"\"\"\n",
    "    Download table from PatentsViews' bulk data downloads (https://patentsview.org/download/data-download-tables).\n",
    "\n",
    "    args:\n",
    "        table_name: Name of the table to read, e.g. \"g_patent\".\n",
    "    **kwargs: \n",
    "        Additional arguments passed to pandas' read_csv function.\n",
    "    \"\"\"\n",
    "    if table_name.startswith('g_'):\n",
    "        database_url = 'https://s3.amazonaws.com/data.patentsview.org/download'\n",
    "    elif table_name.startswith('pg_'):\n",
    "        database_url = 'https://s3.amazonaws.com/data.patentsview.org/pregrant_publications'\n",
    "    else:\n",
    "        raise ValueError(\"Invalid table name:\", table_name)\n",
    "    \n",
    "    table_url = f\"{database_url}/{table_name}.tsv.zip\"\n",
    "\n",
    "    return pd.read_csv(table_url, delimiter=\"\\t\", dtype='str[pyarrow]', quoting=csv.QUOTE_NONNUMERIC, **kwargs)"
   ]
  },
  {
   "cell_type": "markdown",
   "metadata": {},
   "source": [
    "Load a granted patent data table:"
   ]
  },
  {
   "cell_type": "code",
   "execution_count": null,
   "metadata": {},
   "outputs": [],
   "source": [
    "load_patentsview_table('g_applicant_not_disambiguated', nrows=5)"
   ]
  },
  {
   "cell_type": "markdown",
   "metadata": {},
   "source": [
    "Load a pre-grant publication data table:"
   ]
  },
  {
   "cell_type": "code",
   "execution_count": null,
   "metadata": {},
   "outputs": [],
   "source": [
    "load_patentsview_table('pg_applicant_not_disambiguated', nrows=5)"
   ]
  },
  {
   "cell_type": "markdown",
   "metadata": {},
   "source": [
    "## Dictionary with all table names"
   ]
  },
  {
   "cell_type": "code",
   "execution_count": null,
   "metadata": {},
   "outputs": [],
   "source": [
    "import yaml\n",
    "from pprint import pprint\n",
    "\n",
    "with open(\"sources.yml\") as file:\n",
    "    sources = yaml.safe_load(file)\n",
    "\n",
    "pprint(sources, compact=True, width=120)"
   ]
  }
 ],
 "metadata": {
  "kernelspec": {
   "display_name": "base",
   "language": "python",
   "name": "python3"
  },
  "language_info": {
   "codemirror_mode": {
    "name": "ipython",
    "version": 3
   },
   "file_extension": ".py",
   "mimetype": "text/x-python",
   "name": "python",
   "nbconvert_exporter": "python",
   "pygments_lexer": "ipython3",
   "version": "3.12.4"
  }
 },
 "nbformat": 4,
 "nbformat_minor": 2
}
