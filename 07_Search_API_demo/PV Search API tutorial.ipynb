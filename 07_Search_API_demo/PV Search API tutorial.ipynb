{
 "cells": [
  {
   "cell_type": "markdown",
   "metadata": {},
   "source": [
    "# This file has moved\n",
    "## New Name, New Location\n",
    "PatentsView's Search API has become the PatentSearch API, and so the tutorial notebook has been renamed to match.  \n",
    "You can find that resource at https://github.com/PatentsView/PatentsView-Code-Snippets/blob/master/07_PatentSearch_API_demo/PV%20PatentSearch%20API%20tutorial.ipynb  \n",
    "\n",
    "Thank you for using PatentsView!"
   ]
  }
 ],
 "metadata": {
  "language_info": {
   "name": "python"
  }
 },
 "nbformat": 4,
 "nbformat_minor": 2
}
