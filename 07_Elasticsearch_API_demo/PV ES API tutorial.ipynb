{
 "cells": [
  {
   "cell_type": "markdown",
   "id": "380a0afa",
   "metadata": {},
   "source": [
    "### For detailed information on using the PatentsView API, see:  \n",
    "* [PatentsView API information page](https://patentsview.org/apis/api-endpoints/patentsbeta)  \n",
    "* [PatentsView API Query Language](https://patentsview.org/apis/api-query-language)  \n",
    "* [Swagger API Documentation and test page](https://search.patentsview.org/swagger-ui/)"
   ]
  },
  {
   "cell_type": "code",
   "execution_count": 1,
   "id": "f1e4d891",
   "metadata": {},
   "outputs": [],
   "source": [
    "import pandas as pd\n",
    "import json\n",
    "import requests"
   ]
  },
  {
   "cell_type": "markdown",
   "id": "b7161dc9",
   "metadata": {},
   "source": [
    "An API key is required to view results from the PatentsView API.  \n",
    "To request an API key, please submit the API key request form here:  \n",
    "https://patentsview.org/apis/keyrequest"
   ]
  },
  {
   "cell_type": "code",
   "execution_count": 2,
   "id": "94d678af",
   "metadata": {},
   "outputs": [],
   "source": [
    "api_key = \"my_API_key\""
   ]
  },
  {
   "cell_type": "markdown",
   "id": "9bd4fa3f",
   "metadata": {},
   "source": [
    "Responses from the Patentsview API are formatted as JSON and always contain the key **\"error\"** .  \n",
    "Successful responses will also contain the keys:  \n",
    "  \n",
    "**\"count\"** _(the number of records included in the response)_,  \n",
    "  \n",
    "**\"total_hits\"** _(the total number of records in the PatentsView data matching the parameters of the request)_,  \n",
    "  \n",
    "and another key containing the actual record data which is specific to each endpoint.  \n",
    "The function below converts the endpoint to the expected results key."
   ]
  },
  {
   "cell_type": "code",
   "execution_count": 3,
   "id": "0a94e953",
   "metadata": {},
   "outputs": [],
   "source": [
    "special_keys = {\n",
    "    'ipc' : 'ipcr',\n",
    "    'wipo': 'wipo'\n",
    "}\n",
    "\n",
    "def response_key(endpoint:str) -> str:\n",
    "    \"\"\"\n",
    "    Given the API endpoint contacted, returns the json key for the data returned by the API.\n",
    "    In most cases, this is the plural of the term at the end of the endpoint URL.\n",
    "    \"\"\"\n",
    "    endpoint = endpoint.rstrip('/')\n",
    "    leaf = endpoint.split('/')[-1]\n",
    "    if leaf in special_keys:\n",
    "        return special_keys[leaf]\n",
    "    elif leaf.endswith('s'):\n",
    "        return leaf + 'es'\n",
    "    else:\n",
    "        return leaf + 's'"
   ]
  },
  {
   "cell_type": "markdown",
   "id": "230b0855",
   "metadata": {},
   "source": [
    "### Identify and set your endpoint of interest "
   ]
  },
  {
   "cell_type": "code",
   "execution_count": 4,
   "id": "845e6874",
   "metadata": {},
   "outputs": [],
   "source": [
    "base_url = 'https://search.patentsview.org'"
   ]
  },
  {
   "cell_type": "code",
   "execution_count": 5,
   "id": "ac235f1a",
   "metadata": {},
   "outputs": [],
   "source": [
    "# get the endpoint that matches your query from the Swagger page\n",
    "endpoint = 'api/v1/patent' # e.g."
   ]
  },
  {
   "cell_type": "markdown",
   "id": "8d2ab9d3",
   "metadata": {},
   "source": [
    "### constructing your query:  \n",
    "\n",
    "| param | name | object type | default |  \n",
    "| ---: | :--- | :--- | :--- |  \n",
    "| q | query | dict | None (required parameter) |  \n",
    "| f | fields | list | depends on endpoint |  \n",
    "| o |  options | dict | \"size\": 100, \"after\": None (optional) |  \n",
    "| s | sort | list of dict | primary key of table |  \n",
    "\n",
    "See more detail at the [PatentsView API Query Language](https://patentsview.org/apis/api-query-language) Page"
   ]
  },
  {
   "cell_type": "code",
   "execution_count": 6,
   "id": "f6826ef0",
   "metadata": {},
   "outputs": [],
   "source": [
    "# any of these except q can be omitted\n",
    "param_dict = {\n",
    "    \"f\" : [\"patent_id\", \"patent_title\", \"patent_date\"],\n",
    "    \"o\" : {\"size\":200},\n",
    "    \"q\" : {\"patent_id\":[\"D345393\",\"10905426\",\"11172927\"]},\n",
    "    \"s\" : [{\"patent_id\":\"asc\"}], \n",
    "}"
   ]
  },
  {
   "cell_type": "markdown",
   "id": "6375345f",
   "metadata": {},
   "source": [
    "### GET requests:  \n",
    "parameters provided as part of the url after the endpoint, separated by \"&\""
   ]
  },
  {
   "cell_type": "code",
   "execution_count": 7,
   "id": "c6ebdac4",
   "metadata": {},
   "outputs": [],
   "source": [
    "param_string = \"&\".join([f\"{param_name}={json.dumps(param_val)}\" for param_name, param_val in param_dict.items()])\n",
    "# note the json.dumps to ensure strings are surrounded by double quotes instead of single\n",
    "# the api will not accept single quotes\n",
    "query_url = f\"{base_url}/{endpoint.strip('/')}/?{param_string}\""
   ]
  },
  {
   "cell_type": "code",
   "execution_count": 8,
   "id": "7f9d7dcf",
   "metadata": {},
   "outputs": [
    {
     "name": "stdout",
     "output_type": "stream",
     "text": [
      "<Response [200]>\n",
      "error         False\n",
      "count             3\n",
      "total_hits        3\n",
      "dtype: object\n"
     ]
    }
   ],
   "source": [
    "response = requests.get(query_url, headers={\"X-Api-Key\": api_key})\n",
    "print(response)\n",
    "if response.status_code == 200:\n",
    "    print(pd.Series(response.json())[:-1])\n",
    "else: \n",
    "    print(pd.Series(response.headers)) "
   ]
  },
  {
   "cell_type": "code",
   "execution_count": 9,
   "id": "afb12363",
   "metadata": {},
   "outputs": [
    {
     "data": {
      "text/html": [
       "<div>\n",
       "<style scoped>\n",
       "    .dataframe tbody tr th:only-of-type {\n",
       "        vertical-align: middle;\n",
       "    }\n",
       "\n",
       "    .dataframe tbody tr th {\n",
       "        vertical-align: top;\n",
       "    }\n",
       "\n",
       "    .dataframe thead th {\n",
       "        text-align: right;\n",
       "    }\n",
       "</style>\n",
       "<table border=\"1\" class=\"dataframe\">\n",
       "  <thead>\n",
       "    <tr style=\"text-align: right;\">\n",
       "      <th></th>\n",
       "      <th>patent_id</th>\n",
       "      <th>patent_title</th>\n",
       "      <th>patent_date</th>\n",
       "    </tr>\n",
       "  </thead>\n",
       "  <tbody>\n",
       "    <tr>\n",
       "      <th>0</th>\n",
       "      <td>10905426</td>\n",
       "      <td>Detachable motor powered surgical instrument</td>\n",
       "      <td>2021-02-02</td>\n",
       "    </tr>\n",
       "    <tr>\n",
       "      <th>1</th>\n",
       "      <td>11172927</td>\n",
       "      <td>Staple cartridges for forming staples having d...</td>\n",
       "      <td>2021-11-16</td>\n",
       "    </tr>\n",
       "    <tr>\n",
       "      <th>2</th>\n",
       "      <td>D345393</td>\n",
       "      <td>Turtle toy car</td>\n",
       "      <td>1994-03-22</td>\n",
       "    </tr>\n",
       "  </tbody>\n",
       "</table>\n",
       "</div>"
      ],
      "text/plain": [
       "  patent_id                                       patent_title patent_date\n",
       "0  10905426       Detachable motor powered surgical instrument  2021-02-02\n",
       "1  11172927  Staple cartridges for forming staples having d...  2021-11-16\n",
       "2   D345393                                     Turtle toy car  1994-03-22"
      ]
     },
     "metadata": {},
     "output_type": "display_data"
    }
   ],
   "source": [
    "response_unpacked = pd.DataFrame(response.json()[response_key(endpoint)])\n",
    "display(response_unpacked.head())"
   ]
  },
  {
   "cell_type": "markdown",
   "id": "60db1f42",
   "metadata": {},
   "source": [
    "### POST requests:  \n",
    "parameters provided inside a json request body"
   ]
  },
  {
   "cell_type": "code",
   "execution_count": 10,
   "id": "5709d122",
   "metadata": {},
   "outputs": [],
   "source": [
    "query_url = f\"{base_url}/{endpoint.strip('/')}\"\n",
    "headers = {\n",
    "    \"X-Api-Key\": api_key,\n",
    "    \"accept\": \"application/json\",\n",
    "    \"Content-Type\": \"application/json\"\n",
    "}"
   ]
  },
  {
   "cell_type": "code",
   "execution_count": 11,
   "id": "100dd0b3",
   "metadata": {},
   "outputs": [
    {
     "name": "stdout",
     "output_type": "stream",
     "text": [
      "<Response [200]>\n",
      "error         False\n",
      "count             3\n",
      "total_hits        3\n",
      "dtype: object\n"
     ]
    }
   ],
   "source": [
    "response = requests.post(url=query_url, headers=headers, json=param_dict)\n",
    "# note that the POST request takes the parameter dictionary directly rather than requiring json as text\n",
    "print(response)\n",
    "if response.status_code == 200:\n",
    "    print(pd.Series(response.json())[:-1])\n",
    "else: \n",
    "    print(pd.Series(response.headers)) "
   ]
  },
  {
   "cell_type": "code",
   "execution_count": 12,
   "id": "e1cd6a0e",
   "metadata": {},
   "outputs": [
    {
     "data": {
      "text/html": [
       "<div>\n",
       "<style scoped>\n",
       "    .dataframe tbody tr th:only-of-type {\n",
       "        vertical-align: middle;\n",
       "    }\n",
       "\n",
       "    .dataframe tbody tr th {\n",
       "        vertical-align: top;\n",
       "    }\n",
       "\n",
       "    .dataframe thead th {\n",
       "        text-align: right;\n",
       "    }\n",
       "</style>\n",
       "<table border=\"1\" class=\"dataframe\">\n",
       "  <thead>\n",
       "    <tr style=\"text-align: right;\">\n",
       "      <th></th>\n",
       "      <th>patent_id</th>\n",
       "      <th>patent_title</th>\n",
       "      <th>patent_date</th>\n",
       "    </tr>\n",
       "  </thead>\n",
       "  <tbody>\n",
       "    <tr>\n",
       "      <th>0</th>\n",
       "      <td>10905426</td>\n",
       "      <td>Detachable motor powered surgical instrument</td>\n",
       "      <td>2021-02-02</td>\n",
       "    </tr>\n",
       "    <tr>\n",
       "      <th>1</th>\n",
       "      <td>11172927</td>\n",
       "      <td>Staple cartridges for forming staples having d...</td>\n",
       "      <td>2021-11-16</td>\n",
       "    </tr>\n",
       "    <tr>\n",
       "      <th>2</th>\n",
       "      <td>D345393</td>\n",
       "      <td>Turtle toy car</td>\n",
       "      <td>1994-03-22</td>\n",
       "    </tr>\n",
       "  </tbody>\n",
       "</table>\n",
       "</div>"
      ],
      "text/plain": [
       "  patent_id                                       patent_title patent_date\n",
       "0  10905426       Detachable motor powered surgical instrument  2021-02-02\n",
       "1  11172927  Staple cartridges for forming staples having d...  2021-11-16\n",
       "2   D345393                                     Turtle toy car  1994-03-22"
      ]
     },
     "metadata": {},
     "output_type": "display_data"
    }
   ],
   "source": [
    "response_unpacked = pd.DataFrame(response.json()[response_key(endpoint)])\n",
    "display(response_unpacked.head())"
   ]
  },
  {
   "cell_type": "markdown",
   "id": "ce87c370",
   "metadata": {},
   "source": [
    "### Single Record GET Requests  \n",
    "Many of the endpoints also allow providing a single id at the end of the endpoint URL to retrieve default information about that record"
   ]
  },
  {
   "cell_type": "code",
   "execution_count": 13,
   "id": "1c430063",
   "metadata": {},
   "outputs": [],
   "source": [
    "record_id = \"D345393\" # e.g. a patent ID for the patents endpoint"
   ]
  },
  {
   "cell_type": "code",
   "execution_count": 14,
   "id": "21bd6853",
   "metadata": {},
   "outputs": [
    {
     "name": "stdout",
     "output_type": "stream",
     "text": [
      "<Response [200]>\n",
      "error         False\n",
      "count             1\n",
      "total_hits        1\n",
      "dtype: object\n"
     ]
    }
   ],
   "source": [
    "query_url = f\"{base_url}/{endpoint.strip('/')}/{record_id}/\"\n",
    "response = requests.get(query_url, headers={\"X-Api-Key\": api_key})\n",
    "print(response)\n",
    "if response.status_code == 200:\n",
    "    print(pd.Series(response.json())[:-1])\n",
    "else: \n",
    "    print(pd.Series(response.headers)) "
   ]
  },
  {
   "cell_type": "code",
   "execution_count": 15,
   "id": "a08d369e",
   "metadata": {},
   "outputs": [
    {
     "data": {
      "text/plain": [
       "patent_id              D345393\n",
       "patent_title    Turtle toy car\n",
       "patent_date         1994-03-22\n",
       "dtype: object"
      ]
     },
     "metadata": {},
     "output_type": "display_data"
    }
   ],
   "source": [
    "display(pd.Series(response.json()[response_key(endpoint)][0]))"
   ]
  }
 ],
 "metadata": {
  "kernelspec": {
   "display_name": "Python 3",
   "language": "python",
   "name": "python3"
  },
  "language_info": {
   "codemirror_mode": {
    "name": "ipython",
    "version": 3
   },
   "file_extension": ".py",
   "mimetype": "text/x-python",
   "name": "python",
   "nbconvert_exporter": "python",
   "pygments_lexer": "ipython3",
   "version": "3.9.15 (main, Oct 11 2022, 21:39:54) \n[Clang 14.0.0 (clang-1400.0.29.102)]"
  },
  "vscode": {
   "interpreter": {
    "hash": "a665b5d41d17b532ea9890333293a1b812fa0b73c9c25c950b3cedf1bebd0438"
   }
  }
 },
 "nbformat": 4,
 "nbformat_minor": 5
}
