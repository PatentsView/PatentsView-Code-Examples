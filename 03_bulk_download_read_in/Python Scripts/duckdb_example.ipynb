{
 "cells": [
  {
   "cell_type": "markdown",
   "metadata": {},
   "source": [
    "# Creating a local PatentsView clone using DuckDB"
   ]
  },
  {
   "cell_type": "markdown",
   "metadata": {},
   "source": [
    "## Imports and utilities"
   ]
  },
  {
   "cell_type": "code",
   "execution_count": 1,
   "metadata": {},
   "outputs": [],
   "source": [
    "import duckdb\n",
    "from duckdb import DuckDBPyConnection\n",
    "from zipfile import ZipFile\n",
    "from urllib.request import urlopen\n",
    "from io import BytesIO\n",
    "import yaml\n",
    "\n",
    "def zipfile_from_url(filename: str, zipped_url: str):\n",
    "    \"\"\"Open file from remote ZIP archive.\"\"\"\n",
    "    remote = urlopen(zipped_url)\n",
    "    with ZipFile(BytesIO(remote.read())) as file:\n",
    "        return file.open(filename)\n",
    "\n",
    "def create_patentsview_table(con: DuckDBPyConnection, pv_database: str, table_name: str):\n",
    "    \"\"\"Download and save given PatentsView table in duckdb database, if it doesn't already exist.\"\"\"\n",
    "    filename = f\"{table_name}.tsv\"\n",
    "    url = f\"{pv_database}/{filename}.zip\"\n",
    "\n",
    "    existing_tables = con.sql(\"show tables\").df().name.values\n",
    "\n",
    "    if table_name not in existing_tables:\n",
    "        print(f\"Loading {table_name} from {url} ...\")\n",
    "        table = con.read_csv(zipfile_from_url(filename, url), delimiter=\"\\t\", all_varchar=True, header=True)\n",
    "        print(f\"Saving to duckdb database...\")\n",
    "        table.create(table_name)\n",
    "        print(\"Done.\")\n",
    "        existing_tables = con.sql(\"show tables\").df().name.values\n"
   ]
  },
  {
   "cell_type": "markdown",
   "metadata": {},
   "source": [
    "## PatentsView database cloning script"
   ]
  },
  {
   "cell_type": "code",
   "execution_count": 2,
   "metadata": {},
   "outputs": [],
   "source": [
    "# Create local DuckDB database.\n",
    "database_name = \"patentsview.ddb\"\n",
    "con = duckdb.connect(database_name)\n",
    "\n",
    "# Loading information about PatentsView data sources from `sources.yml` file.\n",
    "with open(\"sources.yml\") as file:\n",
    "    sources = yaml.safe_load(file)\n",
    "\n",
    "# Replicating all tables in the duckdb database\n",
    "for type, info in sources.items():\n",
    "    pv_database = info['database']  # Base URL to use for granted or pre-grant data downloads\n",
    "    tables = info['tables']  # List of tables\n",
    "    for table_name in tables:\n",
    "        create_patentsview_table(con, pv_database, table_name)"
   ]
  },
  {
   "cell_type": "markdown",
   "metadata": {},
   "source": [
    "## Example usage"
   ]
  },
  {
   "cell_type": "markdown",
   "metadata": {},
   "source": [
    "Show all tables:"
   ]
  },
  {
   "cell_type": "code",
   "execution_count": 3,
   "metadata": {},
   "outputs": [
    {
     "data": {
      "text/plain": [
       "┌─────────────┬─────────┬───────────────────────────────┬────────────────────────────────────────────────────────────────────────────────────────────────────────────────────────────────────────────────────────────────────────────────────────────────────────────────────────────────────────────────────────────────────────────────────────────────────────────────────────────────────────────────────────────────────────────────────────────────────────────────────────┬─────────────────────────────────────────────────────────────────────────────────────────────────────────────────────────────────────────┬───────────┐\n",
       "│  database   │ schema  │             name              │                                                                                                                                                                                                      column_names                                                                                                                                                                                                      │                                                              column_types                                                               │ temporary │\n",
       "│   varchar   │ varchar │            varchar            │                                                                                                                                                                                                       varchar[]                                                                                                                                                                                                        │                                                                varchar[]                                                                │  boolean  │\n",
       "├─────────────┼─────────┼───────────────────────────────┼────────────────────────────────────────────────────────────────────────────────────────────────────────────────────────────────────────────────────────────────────────────────────────────────────────────────────────────────────────────────────────────────────────────────────────────────────────────────────────────────────────────────────────────────────────────────────────────────────────────────────────┼─────────────────────────────────────────────────────────────────────────────────────────────────────────────────────────────────────────┼───────────┤\n",
       "│ patentsview │ main    │ g_applicant_not_disambiguated │ [patent_id, applicant_sequence, raw_applicant_name_first, raw_applicant_name_last, raw_applicant_organization, applicant_type, applicant_designation, applicant_authority, rawlocation_id]                                                                                                                                                                                                                             │ [VARCHAR, VARCHAR, VARCHAR, VARCHAR, VARCHAR, VARCHAR, VARCHAR, VARCHAR, VARCHAR]                                                       │ false     │\n",
       "│ patentsview │ main    │ g_application                 │ [application_id, patent_id, patent_application_type, filing_date, series_code, rule_47_flag]                                                                                                                                                                                                                                                                                                                           │ [VARCHAR, VARCHAR, VARCHAR, VARCHAR, VARCHAR, VARCHAR]                                                                                  │ false     │\n",
       "│ patentsview │ main    │ g_assignee_disambiguated      │ [patent_id, assignee_sequence, assignee_id, disambig_assignee_individual_name_first, disambig_assignee_individual_name_last, disambig_assignee_organization, assignee_type, location_id]                                                                                                                                                                                                                               │ [VARCHAR, VARCHAR, VARCHAR, VARCHAR, VARCHAR, VARCHAR, VARCHAR, VARCHAR]                                                                │ false     │\n",
       "│ patentsview │ main    │ g_assignee_not_disambiguated  │ [patent_id, assignee_sequence, assignee_id, raw_assignee_individual_name_first, raw_assignee_individual_name_last, raw_assignee_organization, assignee_type, rawlocation_id]                                                                                                                                                                                                                                           │ [VARCHAR, VARCHAR, VARCHAR, VARCHAR, VARCHAR, VARCHAR, VARCHAR, VARCHAR]                                                                │ false     │\n",
       "│ patentsview │ main    │ g_attorney_disambiguated      │ [patent_id, attorney_sequence, attorney_id, disambig_attorney_name_first, disambig_attorney_name_last, disambig_attorney_organization, attorney_country]                                                                                                                                                                                                                                                               │ [VARCHAR, VARCHAR, VARCHAR, VARCHAR, VARCHAR, VARCHAR, VARCHAR]                                                                         │ false     │\n",
       "│ patentsview │ main    │ g_attorney_not_disambiguated  │ [attorney_id, attorney_sequence, patent_id, raw_attorney_name_first, raw_attorney_name_last, raw_attorney_organization, attorney_country]                                                                                                                                                                                                                                                                              │ [VARCHAR, VARCHAR, VARCHAR, VARCHAR, VARCHAR, VARCHAR, VARCHAR]                                                                         │ false     │\n",
       "│ patentsview │ main    │ g_botanic                     │ [patent_id, latin_name, plant_variety]                                                                                                                                                                                                                                                                                                                                                                                 │ [VARCHAR, VARCHAR, VARCHAR]                                                                                                             │ false     │\n",
       "│ patentsview │ main    │ g_cpc_at_issue                │ [patent_id, cpc_sequence, cpc_version_indicator, cpc_section, cpc_class, cpc_subclass, cpc_group, cpc_type, cpc_action_date]                                                                                                                                                                                                                                                                                           │ [VARCHAR, VARCHAR, VARCHAR, VARCHAR, VARCHAR, VARCHAR, VARCHAR, VARCHAR, VARCHAR]                                                       │ false     │\n",
       "│ patentsview │ main    │ g_cpc_current                 │ [patent_id, cpc_sequence, cpc_section, cpc_class, cpc_subclass, cpc_group, cpc_type]                                                                                                                                                                                                                                                                                                                                   │ [VARCHAR, VARCHAR, VARCHAR, VARCHAR, VARCHAR, VARCHAR, VARCHAR]                                                                         │ false     │\n",
       "│ patentsview │ main    │ g_cpc_title                   │ [cpc_subclass, cpc_subclass_title, cpc_group, cpc_group_title, cpc_class, cpc_class_title]                                                                                                                                                                                                                                                                                                                             │ [VARCHAR, VARCHAR, VARCHAR, VARCHAR, VARCHAR, VARCHAR]                                                                                  │ false     │\n",
       "│      ·      │  ·      │      ·                        │                                             ·                                                                                                                                                                                                                                                                                                                                                                          │                           ·                                                                                                             │   ·       │\n",
       "│      ·      │  ·      │      ·                        │                                             ·                                                                                                                                                                                                                                                                                                                                                                          │                           ·                                                                                                             │   ·       │\n",
       "│      ·      │  ·      │      ·                        │                                             ·                                                                                                                                                                                                                                                                                                                                                                          │                           ·                                                                                                             │   ·       │\n",
       "│ patentsview │ main    │ pg_ipc_at_issue               │ [pgpub_id, ipc_sequence, classification_level, section, ipc_class, subclass, main_group, subgroup, classification_value, classification_status, classification_data_source, action_date, ipc_version_indicator]                                                                                                                                                                                                        │ [VARCHAR, VARCHAR, VARCHAR, VARCHAR, VARCHAR, VARCHAR, VARCHAR, VARCHAR, VARCHAR, VARCHAR, VARCHAR, VARCHAR, VARCHAR]                   │ false     │\n",
       "│ patentsview │ main    │ pg_location_disambiguated     │ [location_id, disambig_city, disambig_state, disambig_country, latitude, longitude, county, state_fips, county_fips]                                                                                                                                                                                                                                                                                                   │ [VARCHAR, VARCHAR, VARCHAR, VARCHAR, VARCHAR, VARCHAR, VARCHAR, VARCHAR, VARCHAR]                                                       │ false     │\n",
       "│ patentsview │ main    │ pg_location_not_disambiguated │ [rawlocation_id, location_id, raw_city, raw_state, raw_country]                                                                                                                                                                                                                                                                                                                                                        │ [VARCHAR, VARCHAR, VARCHAR, VARCHAR, VARCHAR]                                                                                           │ false     │\n",
       "│ patentsview │ main    │ pg_pct_data                   │ [pgpub_id, published_or_filed_date, pct_371_date, pct_102_date, filed_country, application_kind, pct_doc_number, pct_doc_type]                                                                                                                                                                                                                                                                                         │ [VARCHAR, VARCHAR, VARCHAR, VARCHAR, VARCHAR, VARCHAR, VARCHAR, VARCHAR]                                                                │ false     │\n",
       "│ patentsview │ main    │ pg_persistent_assignee        │ [pgpub_id, assignee_sequence, disamb_assignee_id_20201229, disamb_assignee_id_20210330, disamb_assignee_id_20210930, disamb_assignee_id_20211230, disamb_assignee_id_20220630, disamb_assignee_id_20220929, disamb_assignee_id_20230330, disamb_assignee_id_20230629, disamb_assignee_id_20230930, disamb_assignee_id_20231231, disamb_assignee_id_20240331, disamb_assignee_id_20240630, disamb_assignee_id_20240930] │ [VARCHAR, VARCHAR, VARCHAR, VARCHAR, VARCHAR, VARCHAR, VARCHAR, VARCHAR, VARCHAR, VARCHAR, VARCHAR, VARCHAR, VARCHAR, VARCHAR, VARCHAR] │ false     │\n",
       "│ patentsview │ main    │ pg_persistent_inventor        │ [pgpub_id, inventor_sequence, disamb_inventor_id_20210930, disamb_inventor_id_20211230, disamb_inventor_id_20220630, disamb_inventor_id_20220929, disamb_inventor_id_20230330, disamb_inventor_id_20230629, disamb_inventor_id_20230930, disamb_inventor_id_20231231, disamb_inventor_id_20240331, disamb_inventor_id_20240630, disamb_inventor_id_20240930]                                                           │ [VARCHAR, VARCHAR, VARCHAR, VARCHAR, VARCHAR, VARCHAR, VARCHAR, VARCHAR, VARCHAR, VARCHAR, VARCHAR, VARCHAR, VARCHAR]                   │ false     │\n",
       "│ patentsview │ main    │ pg_rel_app_text               │ [pgpub_id, rel_app_text]                                                                                                                                                                                                                                                                                                                                                                                               │ [VARCHAR, VARCHAR]                                                                                                                      │ false     │\n",
       "│ patentsview │ main    │ pg_us_rel_doc                 │ [pgpub_id, related_doc_number, published_country, related_doc_type, related_doc_kind, related_doc_published_date, related_doc_sequence]                                                                                                                                                                                                                                                                                │ [VARCHAR, VARCHAR, VARCHAR, VARCHAR, VARCHAR, VARCHAR, VARCHAR]                                                                         │ false     │\n",
       "│ patentsview │ main    │ pg_uspc_at_issue              │ [pgpub_id, uspc_sequence, uspc_mainclass_id, uspc_mainclass_title, uspc_subclass_id, uspc_subclass_title]                                                                                                                                                                                                                                                                                                              │ [VARCHAR, VARCHAR, VARCHAR, VARCHAR, VARCHAR, VARCHAR]                                                                                  │ false     │\n",
       "│ patentsview │ main    │ pg_wipo_technology            │ [pgpub_id, wipo_field_sequence, wipo_field_id, wipo_sector_title, wipo_field_title]                                                                                                                                                                                                                                                                                                                                    │ [VARCHAR, VARCHAR, VARCHAR, VARCHAR, VARCHAR]                                                                                           │ false     │\n",
       "├─────────────┴─────────┴───────────────────────────────┴────────────────────────────────────────────────────────────────────────────────────────────────────────────────────────────────────────────────────────────────────────────────────────────────────────────────────────────────────────────────────────────────────────────────────────────────────────────────────────────────────────────────────────────────────────────────────────────────────────────────────────┴─────────────────────────────────────────────────────────────────────────────────────────────────────────────────────────────────────────┴───────────┤\n",
       "│ 58 rows (20 shown)                                                                                                                                                                                                                                                                                                                                                                                                                                                                                                                                                                                                         6 columns │\n",
       "└──────────────────────────────────────────────────────────────────────────────────────────────────────────────────────────────────────────────────────────────────────────────────────────────────────────────────────────────────────────────────────────────────────────────────────────────────────────────────────────────────────────────────────────────────────────────────────────────────────────────────────────────────────────────────────────────────────────────────────────────────────────────────────────────────────────────────────────────────────────────────────────────────────────────────────────────────────┘"
      ]
     },
     "execution_count": 3,
     "metadata": {},
     "output_type": "execute_result"
    }
   ],
   "source": [
    "con.sql(\"show all tables;\")"
   ]
  },
  {
   "cell_type": "markdown",
   "metadata": {},
   "source": [
    "Get a single table:"
   ]
  },
  {
   "cell_type": "code",
   "execution_count": 4,
   "metadata": {},
   "outputs": [
    {
     "data": {
      "text/plain": [
       "┌───────────┬───────────────────┬──────────────────────────┬─────────────────────────┬────────────────────────┬───────────────┬───────────────────────────┐\n",
       "│ patent_id │ inventor_sequence │       inventor_id        │ raw_inventor_name_first │ raw_inventor_name_last │ deceased_flag │      rawlocation_id       │\n",
       "│  varchar  │      varchar      │         varchar          │         varchar         │        varchar         │    varchar    │          varchar          │\n",
       "├───────────┼───────────────────┼──────────────────────────┼─────────────────────────┼────────────────────────┼───────────────┼───────────────────────────┤\n",
       "│ D1006496  │ 0                 │ fl:we_ln:jiang-128       │ Wenjing                 │ Jiang                  │ 0             │ 30zgod902k0u495w9b2sb8xk9 │\n",
       "│ 12029253  │ 4                 │ fl:ei_ln:baumker-1       │ Eiko                    │ Bäumker                │ 0             │ 468lxxjgdkuh0uonw27yj3t3f │\n",
       "│ 6584128   │ 0                 │ fl:ri_ln:kroeger-1       │ Richard                 │ Kroeger                │ FALSE         │ o2ema6bl3kkh6iwziprbzu4m9 │\n",
       "│ 4789863   │ 0                 │ fl:th_ln:bush-1          │ Thomas A.               │ Bush                   │ FALSE         │ tkz70bmoqx88n1lfz3fl657lh │\n",
       "│ 11161990  │ 1                 │ fl:ma_ln:boudreaux-4     │ Matthew F.              │ Boudreaux              │ False         │ up8ym622ssh09vpqv9rdsygs0 │\n",
       "│ 6795487   │ 1                 │ fl:ge_ln:whitworth-1     │ Gerald                  │ Whitworth              │ FALSE         │ 96s3xenagksk3dyad1r777a9e │\n",
       "│ D474886   │ 0                 │ fl:th_ln:fleming-4       │ Thomas W.               │ Fleming                │ FALSE         │ cmf9hebugybql8ufffo47uwcz │\n",
       "│ 11885288  │ 3                 │ fl:du_ln:moon-7          │ Duck Su                 │ Moon                   │ 0             │ 43qw8ilmejqeei9lrroddre77 │\n",
       "│ 7646155   │ 0                 │ fl:sa_ln:woods-2         │ Samuel G                │ Woods                  │ FALSE         │ omi6wqlrblholsssk9qx0dz5b │\n",
       "│ 4339721   │ 1                 │ fl:ta_ln:hosoda-5        │ Takuya                  │ Hosoda                 │ FALSE         │ 8uifwkdu885g2jxfu2uhnzgp1 │\n",
       "│    ·      │ ·                 │         ·                │   ·                     │   ·                    │   ·           │             ·             │\n",
       "│    ·      │ ·                 │         ·                │   ·                     │   ·                    │   ·           │             ·             │\n",
       "│    ·      │ ·                 │         ·                │   ·                     │   ·                    │   ·           │             ·             │\n",
       "│ 11505755  │ 4                 │ fl:da_ln:grottenthaler-1 │ David L.                │ Grottenthaler          │ FALSE         │ q6sw37t6cclr8bsdlg4boiwlq │\n",
       "│ 6728659   │ 0                 │ fl:jo_ln:nguyen-23       │ John H.                 │ Nguyen                 │ FALSE         │ c15so94gpdqfwjq8npqx7b946 │\n",
       "│ 7088147   │ 0                 │ fl:am_ln:prasad-1        │ Ammisetti V.            │ Prasad                 │ FALSE         │ a44auv70b9w4gn53wy4ypodgu │\n",
       "│ 8638932   │ 0                 │ fl:su_ln:kim-375         │ Sun-bal                 │ Kim                    │ FALSE         │ dzu6k66x6v45b18cgbuinbhel │\n",
       "│ 5311452   │ 1                 │ fl:os_ln:kamikanda-1     │ Osamu                   │ Kamikanda              │ FALSE         │ a80n9mhetpkm0zisb6e9bkloq │\n",
       "│ 6801034   │ 0                 │ fl:je_ln:brittain-1      │ Jean Helen              │ Brittain               │ FALSE         │ x9ovl2j6a3jak06q8dfp00goq │\n",
       "│ 8300622   │ 5                 │ fl:al_ln:terzani-1       │ Alessio                 │ Terzani                │ FALSE         │ 0s43gunxdcmce2fljmwbxfsuf │\n",
       "│ 6783358   │ 1                 │ fl:do_ln:shetterly-1     │ Donivan M.              │ Shetterly              │ FALSE         │ np9om6eu7mzaja8r3xf4zyfbe │\n",
       "│ 11078904  │ 0                 │ fl:ni_ln:bornemann-1     │ Nils                    │ Bornemann              │ False         │ zbmmhwimybfnk7suf4s7nc7na │\n",
       "│ 8173567   │ 2                 │ fl:su_ln:krishnamurthy-7 │ Sujay R.                │ Krishnamurthy          │ FALSE         │ cmazu74ekxi1gfs54wkl9giul │\n",
       "├───────────┴───────────────────┴──────────────────────────┴─────────────────────────┴────────────────────────┴───────────────┴───────────────────────────┤\n",
       "│ ? rows (>9999 rows, 20 shown)                                                                                                                 7 columns │\n",
       "└─────────────────────────────────────────────────────────────────────────────────────────────────────────────────────────────────────────────────────────┘"
      ]
     },
     "execution_count": 4,
     "metadata": {},
     "output_type": "execute_result"
    }
   ],
   "source": [
    "rawinventor = con.table(\"g_inventor_not_disambiguated\")\n",
    "rawinventor"
   ]
  },
  {
   "cell_type": "markdown",
   "metadata": {},
   "source": [
    "Joining multiple tables together:"
   ]
  },
  {
   "cell_type": "code",
   "execution_count": 5,
   "metadata": {},
   "outputs": [
    {
     "data": {
      "text/plain": [
       "┌───────────┬───────────────────┬───────────────────────┬─────────────────────────┬────────────────────────┬───────────────┬───────────────────────────┬──────────────────────────────────────┬─────────────────┬───────────┬─────────────┬─────────────┬─────────────┬─────────────────────────────────────────────────────────────────────────────────────────────────────────────────────────┬───────────┬────────────┬───────────┬─────────────────────────┐\n",
       "│ patent_id │ inventor_sequence │      inventor_id      │ raw_inventor_name_first │ raw_inventor_name_last │ deceased_flag │      rawlocation_id       │             location_id              │    raw_city     │ raw_state │ raw_country │ patent_type │ patent_date │                                                      patent_title                                                       │ wipo_kind │ num_claims │ withdrawn │        filename         │\n",
       "│  varchar  │      varchar      │        varchar        │         varchar         │        varchar         │    varchar    │          varchar          │               varchar                │     varchar     │  varchar  │   varchar   │   varchar   │   varchar   │                                                         varchar                                                         │  varchar  │  varchar   │  varchar  │         varchar         │\n",
       "├───────────┼───────────────────┼───────────────────────┼─────────────────────────┼────────────────────────┼───────────────┼───────────────────────────┼──────────────────────────────────────┼─────────────────┼───────────┼─────────────┼─────────────┼─────────────┼─────────────────────────────────────────────────────────────────────────────────────────────────────────────────────────┼───────────┼────────────┼───────────┼─────────────────────────┤\n",
       "│ D504668   │ 1                 │ fl:ma_ln:greenwald-5  │ Mark B.                 │ Greenwald              │ FALSE         │ 12d6y20qqrex9r97jriwl6lgi │ 0712558b-16c8-11ed-9b5f-1234bde3cd05 │ Westport        │ CT        │ US          │ design      │ 2005-05-03  │ Dimmer control switch                                                                                                   │ S1        │ 1          │ 0         │ ipg050503.xml           │\n",
       "│ 5224930   │ 0                 │ fl:ed_ln:spaeth-1     │ Edmund E.               │ Spaeth                 │ FALSE         │ 12d6zvz8yadas6vrolpkkaxnr │ c312f03a-16c7-11ed-9b5f-1234bde3cd05 │ Orange          │ CA        │ US          │ utility     │ 1993-07-06  │ Trocar system for facilitating passage of instruments into a body cavity through a minimal access incision              │ A         │ 7          │ 0         │ pftaps19930706_wk27.zip │\n",
       "│ 7952070   │ 0                 │ fl:mi_ln:senko-1      │ Michael W.              │ Senko                  │ FALSE         │ 12d7503yld8ytwvt6o2re3wtv │ c59ba8f0-16c7-11ed-9b5f-1234bde3cd05 │ Sunnyvale       │ CA        │ US          │ utility     │ 2011-05-31  │ Interlaced Y multipole                                                                                                  │ B2        │ 31         │ 0         │ ipg110531.xml           │\n",
       "│ 6265330   │ 0                 │ fl:wi_ln:pennington-3 │ William L.              │ Pennington             │ FALSE         │ 12d79mc23qwdp9h881s35gf64 │ fcbefe95-16c7-11ed-9b5f-1234bde3cd05 │ Morgantown      │ WV        │ US          │ utility     │ 2001-07-24  │ Non-Asbestos insulation for rocket motor casing                                                                         │ A         │ 17         │ 0         │ pftaps20010724_wk30.zip │\n",
       "│ 7424327   │ 2                 │ fl:br_ln:batke-1      │ Brian A.                │ Batke                  │ FALSE         │ 12d7cw6di5v6rnpci0aehapla │ f6903343-16c7-11ed-9b5f-1234bde3cd05 │ Novelty         │ OH        │ US          │ utility     │ 2008-09-09  │ System and method for automatically matching programmable data of devices within an industrial control system           │ B2        │ 27         │ 0         │ ipg080909.xml           │\n",
       "│ 5667411   │ 1                 │ fl:ja_ln:wetter-1     │ James A.                │ Wetter                 │ FALSE         │ 12d7fikzpq2t11ioupg9d6q33 │ e6ab5aaa-16c7-11ed-9b5f-1234bde3cd05 │ Hoffman Estates │ IL        │ US          │ utility     │ 1997-09-16  │ Electrical connector having terminal alignment means                                                                    │ A         │ 7          │ 0         │ pftaps19970916_wk37.zip │\n",
       "│ 11654228  │ 0                 │ fl:be_ln:askem-1      │ Ben Alan                │ Askem                  │ 0             │ 12d7frip8ah4yqt4eplphvfa0 │ 6c717708-16c8-11ed-9b5f-1234bde3cd05 │ Leeds           │ NULL      │ GB          │ utility     │ 2023-05-23  │ Status indication for negative pressure wound therapy                                                                   │ B2        │ 23         │ 0         │ ipg230523.xml           │\n",
       "│ 8300060   │ 0                 │ fl:mi_ln:garrity-2    │ Michael Patrick         │ Garrity                │ FALSE         │ 12d7hwpwcob4avqcveao7gvqe │ 0ea025b8-16c8-11ed-9b5f-1234bde3cd05 │ Lexington       │ MA        │ US          │ utility     │ 2012-10-30  │ Object transformation for object trees utilized with multiprocessor systems                                             │ B1        │ 22         │ 0         │ ipg121030.xml           │\n",
       "│ 4802455   │ 0                 │ fl:to_ln:abo-4        │ Toshimi                 │ Abo                    │ FALSE         │ 12d7iybivgdfqvyc24xh5289f │ 1d2251c8-16c8-11ed-9b5f-1234bde3cd05 │ Kanagawa        │ NULL      │ JP          │ utility     │ 1989-02-07  │ Knocking control system and method for an internal combustion engine                                                    │ A         │ 9          │ 0         │ pftaps19890207_wk06.zip │\n",
       "│ 4873370   │ 0                 │ fl:i-_ln:chiu-7       │ I-Ching                 │ Chiu                   │ FALSE         │ 12d7jiah2823mimqt1v9652kj │ 4e49a0a0-16c8-11ed-9b5f-1234bde3cd05 │ Houston         │ TX        │ US          │ utility     │ 1989-10-10  │ Alkylene diamines for use in friction and wear reducing compositions                                                    │ A         │ 10         │ 0         │ pftaps19891010_wk41.zip │\n",
       "│    ·      │ ·                 │        ·              │    ·                    │ ·                      │   ·           │             ·             │                  ·                   │    ·            │ ·         │ ·           │    ·        │     ·       │                               ·                                                                                         │ ·         │ ·          │ ·         │       ·                 │\n",
       "│    ·      │ ·                 │        ·              │    ·                    │ ·                      │   ·           │             ·             │                  ·                   │    ·            │ ·         │ ·           │    ·        │     ·       │                               ·                                                                                         │ ·         │ ·          │ ·         │       ·                 │\n",
       "│    ·      │ ·                 │        ·              │    ·                    │ ·                      │   ·           │             ·             │                  ·                   │    ·            │ ·         │ ·           │    ·        │     ·       │                               ·                                                                                         │ ·         │ ·          │ ·         │       ·                 │\n",
       "│ 9322933   │ 2                 │ fl:yu_ln:li-487       │ Yuanjing                │ Li                     │ FALSE         │ 1f3twmr0dlf3ilqmb92judu6r │ 3b444e27-16c8-11ed-9b5f-1234bde3cd05 │ Beijing         │ NULL      │ CN          │ utility     │ 2016-04-26  │ Multiple technologies composite scintillation detector device                                                           │ B2        │ 20         │ 0         │ ipg160426.xml           │\n",
       "│ 11952818  │ 1                 │ fl:do_ln:dion-3       │ Dominic                 │ Dion                   │ 0             │ 1f3tziempl8cth9iooglt5q8n │ 5aa2a2f5-16c8-11ed-9b5f-1234bde3cd05 │ Montréal        │ NULL      │ CA          │ utility     │ 2024-04-09  │ Shower door hinge assembly                                                                                              │ B2        │ 20         │ 0         │ ipg240409.xml           │\n",
       "│ 11962914  │ 0                 │ fl:sh_ln:dabral-1     │ Shashank                │ Dabral                 │ 0             │ 1f3u03mni2fw0jxsa6sj3eg94 │ d2f15ec9-16c7-11ed-9b5f-1234bde3cd05 │ Allen           │ TX        │ US          │ utility     │ 2024-04-16  │ Image data processing for digital overlap wide dynamic range sensors                                                    │ B2        │ 20         │ 0         │ ipg240416.xml           │\n",
       "│ 6307176   │ 0                 │ fl:sh_ln:kurahashi-6  │ Shinsuke                │ Kurahashi              │ FALSE         │ 1f3u34okyew23haihvgrd6h95 │ 9defebc5-16c8-11ed-9b5f-1234bde3cd05 │ Hyogo           │ NULL      │ JP          │ utility     │ 2001-10-23  │ Light beam heating apparatus                                                                                            │ A         │ 7          │ 0         │ pftaps20011023_wk43.zip │\n",
       "│ 10853937  │ 1                 │ fl:re_ln:min-1        │ Renqiang                │ Min                    │ FALSE         │ 1f3u3bhtsrphz2pa9mhxz0ajv │ 08356fad-16c8-11ed-9b5f-1234bde3cd05 │ Princeton       │ NJ        │ US          │ utility     │ 2020-12-01  │ Unsupervised image-based anomaly detection using multi-scale context-dependent deep autoencoding gaussian mixture model │ B2        │ 20         │ 0         │ ipg201201.xml           │\n",
       "│ 11698272  │ 3                 │ fl:va_ln:thukral-1    │ Vaibhav                 │ Thukral                │ 0             │ 1f3u6w2kpq9ldflktzcv53umy │ 816cf2b5-16c8-11ed-9b5f-1234bde3cd05 │ Bellevue        │ WA        │ US          │ utility     │ 2023-07-11  │ Map creation and localization for autonomous driving applications                                                       │ B2        │ 25         │ 0         │ ipg230711.xml           │\n",
       "│ D469069   │ 0                 │ fl:ph_ln:ng-1         │ Phoebe Po-Yi            │ Ng                     │ FALSE         │ 1f3u6z63ywgz5h2sab609dq73 │ ef02999e-16c7-11ed-9b5f-1234bde3cd05 │ Sunrise         │ FL        │ US          │ design      │ 2003-01-21  │ Portable communication device                                                                                           │ S1        │ 1          │ 0         │ pg030121.zip            │\n",
       "│ 11098661  │ 4                 │ fl:ni_ln:herhusky-1   │ Nicholas                │ Herhusky               │ False         │ 1f3u7kr9voii3wncu5zp6tgjo │ ec485a6e-16c7-11ed-9b5f-1234bde3cd05 │ Dearborn        │ MI        │ US          │ utility     │ 2021-08-24  │ Methods and system for determining engine speed                                                                         │ B2        │ 18         │ 0         │ ipg210824.xml           │\n",
       "│ 5978835   │ 2                 │ fl:ke_ln:lantz-6      │ Keith A.                │ Lantz                  │ FALSE         │ 1f3u96vjr3di3tivv9rydkgya │ b86c5343-16c7-11ed-9b5f-1234bde3cd05 │ Los Altos       │ CA        │ US          │ utility     │ 1999-11-02  │ Multimedia mail, conference recording and documents in video conferencing                                               │ A         │ 23         │ 0         │ pftaps19991102_wk44.zip │\n",
       "│ D962268   │ 11                │ fl:re_ln:mcelhaney-1  │ Remington Cougar        │ McElhaney              │ FALSE         │ 1f3uax16iey92z8k53rjt95z9 │ c59ba8f0-16c7-11ed-9b5f-1234bde3cd05 │ Sunnyvale       │ CA        │ US          │ design      │ 2022-08-30  │ Display panel or portion thereof with an animated graphical user interface                                              │ S1        │ 1          │ 0         │ ipg220830.xml           │\n",
       "├───────────┴───────────────────┴───────────────────────┴─────────────────────────┴────────────────────────┴───────────────┴───────────────────────────┴──────────────────────────────────────┴─────────────────┴───────────┴─────────────┴─────────────┴─────────────┴─────────────────────────────────────────────────────────────────────────────────────────────────────────────────────────┴───────────┴────────────┴───────────┴─────────────────────────┤\n",
       "│ ? rows (>9999 rows, 20 shown)                                                                                                                                                                                                                                                                                                                                                                                                                     18 columns │\n",
       "└──────────────────────────────────────────────────────────────────────────────────────────────────────────────────────────────────────────────────────────────────────────────────────────────────────────────────────────────────────────────────────────────────────────────────────────────────────────────────────────────────────────────────────────────────────────────────────────────────────────────────────────────────────────────────────────────┘"
      ]
     },
     "execution_count": 5,
     "metadata": {},
     "output_type": "execute_result"
    }
   ],
   "source": [
    "rawinventor = con.table(\"g_inventor_not_disambiguated\")\n",
    "rawlocation = con.table(\"g_location_not_disambiguated\")\n",
    "patent = con.table(\"g_patent\")\n",
    "\n",
    "rawinventor.join(rawlocation, \"rawlocation_id\", how=\"left\").join(patent, \"patent_id\", how=\"left\")"
   ]
  },
  {
   "cell_type": "markdown",
   "metadata": {},
   "source": [
    "## Using SQL in a notebook"
   ]
  },
  {
   "cell_type": "code",
   "execution_count": 6,
   "metadata": {},
   "outputs": [],
   "source": [
    "# pip install jupysql jupysql duckdb-engine\n",
    "%load_ext sql\n",
    "%sql con\n",
    "%config SqlMagic.displaycon = False"
   ]
  },
  {
   "cell_type": "code",
   "execution_count": 7,
   "metadata": {},
   "outputs": [
    {
     "data": {
      "text/html": [
       "<table>\n",
       "    <thead>\n",
       "        <tr>\n",
       "            <th>patent_id</th>\n",
       "            <th>patent_type</th>\n",
       "            <th>patent_date</th>\n",
       "            <th>patent_title</th>\n",
       "            <th>wipo_kind</th>\n",
       "            <th>num_claims</th>\n",
       "            <th>withdrawn</th>\n",
       "            <th>filename</th>\n",
       "        </tr>\n",
       "    </thead>\n",
       "    <tbody>\n",
       "        <tr>\n",
       "            <td>10000000</td>\n",
       "            <td>utility</td>\n",
       "            <td>2018-06-19</td>\n",
       "            <td>Coherent LADAR using intra-pixel quadrature detection</td>\n",
       "            <td>B2</td>\n",
       "            <td>20</td>\n",
       "            <td>0</td>\n",
       "            <td>ipg180619.xml</td>\n",
       "        </tr>\n",
       "        <tr>\n",
       "            <td>10000001</td>\n",
       "            <td>utility</td>\n",
       "            <td>2018-06-19</td>\n",
       "            <td>Injection molding machine and mold thickness control method</td>\n",
       "            <td>B2</td>\n",
       "            <td>12</td>\n",
       "            <td>0</td>\n",
       "            <td>ipg180619.xml</td>\n",
       "        </tr>\n",
       "        <tr>\n",
       "            <td>10000002</td>\n",
       "            <td>utility</td>\n",
       "            <td>2018-06-19</td>\n",
       "            <td>Method for manufacturing polymer film and co-extruded film</td>\n",
       "            <td>B2</td>\n",
       "            <td>9</td>\n",
       "            <td>0</td>\n",
       "            <td>ipg180619.xml</td>\n",
       "        </tr>\n",
       "        <tr>\n",
       "            <td>10000003</td>\n",
       "            <td>utility</td>\n",
       "            <td>2018-06-19</td>\n",
       "            <td>Method for producing a container from a thermoplastic</td>\n",
       "            <td>B2</td>\n",
       "            <td>18</td>\n",
       "            <td>0</td>\n",
       "            <td>ipg180619.xml</td>\n",
       "        </tr>\n",
       "        <tr>\n",
       "            <td>10000004</td>\n",
       "            <td>utility</td>\n",
       "            <td>2018-06-19</td>\n",
       "            <td>Process of obtaining a double-oriented film, co-extruded, and of low thickness made by a three bubble process that at the time of being thermoformed provides a uniform thickness in the produced tray</td>\n",
       "            <td>B2</td>\n",
       "            <td>6</td>\n",
       "            <td>0</td>\n",
       "            <td>ipg180619.xml</td>\n",
       "        </tr>\n",
       "    </tbody>\n",
       "</table>"
      ],
      "text/plain": [
       "+-----------+-------------+-------------+--------------------------------------------------------------------------------------------------------------------------------------------------------------------------------------------------------+-----------+------------+-----------+---------------+\n",
       "| patent_id | patent_type | patent_date |                                                                                              patent_title                                                                                              | wipo_kind | num_claims | withdrawn |    filename   |\n",
       "+-----------+-------------+-------------+--------------------------------------------------------------------------------------------------------------------------------------------------------------------------------------------------------+-----------+------------+-----------+---------------+\n",
       "|  10000000 |   utility   |  2018-06-19 |                                                                         Coherent LADAR using intra-pixel quadrature detection                                                                          |     B2    |     20     |     0     | ipg180619.xml |\n",
       "|  10000001 |   utility   |  2018-06-19 |                                                                      Injection molding machine and mold thickness control method                                                                       |     B2    |     12     |     0     | ipg180619.xml |\n",
       "|  10000002 |   utility   |  2018-06-19 |                                                                       Method for manufacturing polymer film and co-extruded film                                                                       |     B2    |     9      |     0     | ipg180619.xml |\n",
       "|  10000003 |   utility   |  2018-06-19 |                                                                         Method for producing a container from a thermoplastic                                                                          |     B2    |     18     |     0     | ipg180619.xml |\n",
       "|  10000004 |   utility   |  2018-06-19 | Process of obtaining a double-oriented film, co-extruded, and of low thickness made by a three bubble process that at the time of being thermoformed provides a uniform thickness in the produced tray |     B2    |     6      |     0     | ipg180619.xml |\n",
       "+-----------+-------------+-------------+--------------------------------------------------------------------------------------------------------------------------------------------------------------------------------------------------------+-----------+------------+-----------+---------------+"
      ]
     },
     "execution_count": 7,
     "metadata": {},
     "output_type": "execute_result"
    }
   ],
   "source": [
    "%%sql\n",
    "SELECT *\n",
    "FROM g_patent\n",
    "LIMIT 5;"
   ]
  }
 ],
 "metadata": {
  "kernelspec": {
   "display_name": "base",
   "language": "python",
   "name": "python3"
  },
  "language_info": {
   "codemirror_mode": {
    "name": "ipython",
    "version": 3
   },
   "file_extension": ".py",
   "mimetype": "text/x-python",
   "name": "python",
   "nbconvert_exporter": "python",
   "pygments_lexer": "ipython3",
   "version": "3.12.4"
  }
 },
 "nbformat": 4,
 "nbformat_minor": 2
}
