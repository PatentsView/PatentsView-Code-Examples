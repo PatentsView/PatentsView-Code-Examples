{
 "cells": [
  {
   "cell_type": "markdown",
   "metadata": {},
   "source": [
    "# Creating a local PatentsView clone using DuckDB"
   ]
  },
  {
   "cell_type": "markdown",
   "metadata": {},
   "source": [
    "## Imports and utilities"
   ]
  },
  {
   "cell_type": "code",
   "execution_count": 1,
   "metadata": {},
   "outputs": [],
   "source": [
    "import duckdb\n",
    "from duckdb import DuckDBPyConnection\n",
    "from zipfile import ZipFile\n",
    "from urllib.request import urlopen\n",
    "from io import BytesIO\n",
    "import yaml\n",
    "\n",
    "def zipfile_from_url(filename: str, zipped_url: str):\n",
    "    \"\"\"Open file from remote ZIP archive.\"\"\"\n",
    "    remote = urlopen(zipped_url)\n",
    "    with ZipFile(BytesIO(remote.read())) as file:\n",
    "        return file.open(filename)\n",
    "\n",
    "def create_patentsview_table(con: DuckDBPyConnection, pv_database: str, table_name: str):\n",
    "    \"\"\"Download and save given PatentsView table in duckdb database, if it doesn't already exist.\"\"\"\n",
    "    filename = f\"{table_name}.tsv\"\n",
    "    url = f\"{pv_database}/{filename}.zip\"\n",
    "\n",
    "    existing_tables = con.sql(\"show tables\").df().name.values\n",
    "\n",
    "    if table_name not in existing_tables:\n",
    "        print(f\"Loading {table_name} from {url} ...\")\n",
    "        table = con.read_csv(zipfile_from_url(filename, url), delimiter=\"\\t\", all_varchar=True, header=True)\n",
    "        print(f\"Saving to duckdb database...\")\n",
    "        table.create(table_name)\n",
    "        print(\"Done.\")\n",
    "        existing_tables = con.sql(\"show tables\").df().name.values\n"
   ]
  },
  {
   "cell_type": "markdown",
   "metadata": {},
   "source": [
    "## PatentsView database cloning script"
   ]
  },
  {
   "cell_type": "code",
   "execution_count": 2,
   "metadata": {},
   "outputs": [],
   "source": [
    "# Create local DuckDB database.\n",
    "database_name = \"patentsview.ddb\"\n",
    "con = duckdb.connect(database_name)\n",
    "\n",
    "# Loading information about PatentsView data sources from `sources.yml` file.\n",
    "with open(\"sources.yml\") as file:\n",
    "    sources = yaml.safe_load(file)\n",
    "\n",
    "# Replicating all tables in the duckdb database\n",
    "for type, info in sources.items():\n",
    "    pv_database = info['database']  # Base URL to use for granted or pre-grant data downloads\n",
    "    tables = info['tables']  # List of tables\n",
    "    for table_name in tables:\n",
    "        create_patentsview_table(con, pv_database, table_name)"
   ]
  },
  {
   "cell_type": "markdown",
   "metadata": {},
   "source": [
    "## Example usage"
   ]
  },
  {
   "cell_type": "markdown",
   "metadata": {},
   "source": [
    "Show all tables:"
   ]
  },
  {
   "cell_type": "code",
   "execution_count": 3,
   "metadata": {},
   "outputs": [
    {
     "data": {
      "text/plain": [
       "┌─────────────┬─────────┬───────────────────────────────┬────────────────────────────────────────────────────────────────────────────────────────────────────────────────────────────────────────────────────────────────────────────────────────────────────────────────────────────────────────────────────────────────────────────────────────────────────────────────────────────────────────────────────────────────────────────────────────────────────────────────────────┬─────────────────────────────────────────────────────────────────────────────────────────────────────────────────────────────────────────┬───────────┐\n",
       "│  database   │ schema  │             name              │                                                                                                                                                                                                      column_names                                                                                                                                                                                                      │                                                              column_types                                                               │ temporary │\n",
       "│   varchar   │ varchar │            varchar            │                                                                                                                                                                                                       varchar[]                                                                                                                                                                                                        │                                                                varchar[]                                                                │  boolean  │\n",
       "├─────────────┼─────────┼───────────────────────────────┼────────────────────────────────────────────────────────────────────────────────────────────────────────────────────────────────────────────────────────────────────────────────────────────────────────────────────────────────────────────────────────────────────────────────────────────────────────────────────────────────────────────────────────────────────────────────────────────────────────────────────────┼─────────────────────────────────────────────────────────────────────────────────────────────────────────────────────────────────────────┼───────────┤\n",
       "│ patentsview │ main    │ g_applicant_not_disambiguated │ [patent_id, applicant_sequence, raw_applicant_name_first, raw_applicant_name_last, raw_applicant_organization, applicant_type, applicant_designation, applicant_authority, rawlocation_id]                                                                                                                                                                                                                             │ [VARCHAR, VARCHAR, VARCHAR, VARCHAR, VARCHAR, VARCHAR, VARCHAR, VARCHAR, VARCHAR]                                                       │ false     │\n",
       "│ patentsview │ main    │ g_application                 │ [application_id, patent_id, patent_application_type, filing_date, series_code, rule_47_flag]                                                                                                                                                                                                                                                                                                                           │ [VARCHAR, VARCHAR, VARCHAR, VARCHAR, VARCHAR, VARCHAR]                                                                                  │ false     │\n",
       "│ patentsview │ main    │ g_assignee_disambiguated      │ [patent_id, assignee_sequence, assignee_id, disambig_assignee_individual_name_first, disambig_assignee_individual_name_last, disambig_assignee_organization, assignee_type, location_id]                                                                                                                                                                                                                               │ [VARCHAR, VARCHAR, VARCHAR, VARCHAR, VARCHAR, VARCHAR, VARCHAR, VARCHAR]                                                                │ false     │\n",
       "│ patentsview │ main    │ g_assignee_not_disambiguated  │ [patent_id, assignee_sequence, assignee_id, raw_assignee_individual_name_first, raw_assignee_individual_name_last, raw_assignee_organization, assignee_type, rawlocation_id]                                                                                                                                                                                                                                           │ [VARCHAR, VARCHAR, VARCHAR, VARCHAR, VARCHAR, VARCHAR, VARCHAR, VARCHAR]                                                                │ false     │\n",
       "│ patentsview │ main    │ g_attorney_disambiguated      │ [patent_id, attorney_sequence, attorney_id, disambig_attorney_name_first, disambig_attorney_name_last, disambig_attorney_organization, attorney_country]                                                                                                                                                                                                                                                               │ [VARCHAR, VARCHAR, VARCHAR, VARCHAR, VARCHAR, VARCHAR, VARCHAR]                                                                         │ false     │\n",
       "│ patentsview │ main    │ g_attorney_not_disambiguated  │ [attorney_id, attorney_sequence, patent_id, raw_attorney_name_first, raw_attorney_name_last, raw_attorney_organization, attorney_country]                                                                                                                                                                                                                                                                              │ [VARCHAR, VARCHAR, VARCHAR, VARCHAR, VARCHAR, VARCHAR, VARCHAR]                                                                         │ false     │\n",
       "│ patentsview │ main    │ g_botanic                     │ [patent_id, latin_name, plant_variety]                                                                                                                                                                                                                                                                                                                                                                                 │ [VARCHAR, VARCHAR, VARCHAR]                                                                                                             │ false     │\n",
       "│ patentsview │ main    │ g_cpc_at_issue                │ [patent_id, cpc_sequence, cpc_version_indicator, cpc_section, cpc_class, cpc_subclass, cpc_group, cpc_type, cpc_action_date]                                                                                                                                                                                                                                                                                           │ [VARCHAR, VARCHAR, VARCHAR, VARCHAR, VARCHAR, VARCHAR, VARCHAR, VARCHAR, VARCHAR]                                                       │ false     │\n",
       "│ patentsview │ main    │ g_cpc_current                 │ [patent_id, cpc_sequence, cpc_section, cpc_class, cpc_subclass, cpc_group, cpc_type]                                                                                                                                                                                                                                                                                                                                   │ [VARCHAR, VARCHAR, VARCHAR, VARCHAR, VARCHAR, VARCHAR, VARCHAR]                                                                         │ false     │\n",
       "│ patentsview │ main    │ g_cpc_title                   │ [cpc_subclass, cpc_subclass_title, cpc_group, cpc_group_title, cpc_class, cpc_class_title]                                                                                                                                                                                                                                                                                                                             │ [VARCHAR, VARCHAR, VARCHAR, VARCHAR, VARCHAR, VARCHAR]                                                                                  │ false     │\n",
       "│      ·      │  ·      │      ·                        │                                             ·                                                                                                                                                                                                                                                                                                                                                                          │                           ·                                                                                                             │   ·       │\n",
       "│      ·      │  ·      │      ·                        │                                             ·                                                                                                                                                                                                                                                                                                                                                                          │                           ·                                                                                                             │   ·       │\n",
       "│      ·      │  ·      │      ·                        │                                             ·                                                                                                                                                                                                                                                                                                                                                                          │                           ·                                                                                                             │   ·       │\n",
       "│ patentsview │ main    │ pg_ipc_at_issue               │ [pgpub_id, ipc_sequence, classification_level, section, ipc_class, subclass, main_group, subgroup, classification_value, classification_status, classification_data_source, action_date, ipc_version_indicator]                                                                                                                                                                                                        │ [VARCHAR, VARCHAR, VARCHAR, VARCHAR, VARCHAR, VARCHAR, VARCHAR, VARCHAR, VARCHAR, VARCHAR, VARCHAR, VARCHAR, VARCHAR]                   │ false     │\n",
       "│ patentsview │ main    │ pg_location_disambiguated     │ [location_id, disambig_city, disambig_state, disambig_country, latitude, longitude, county, state_fips, county_fips]                                                                                                                                                                                                                                                                                                   │ [VARCHAR, VARCHAR, VARCHAR, VARCHAR, VARCHAR, VARCHAR, VARCHAR, VARCHAR, VARCHAR]                                                       │ false     │\n",
       "│ patentsview │ main    │ pg_location_not_disambiguated │ [rawlocation_id, location_id, raw_city, raw_state, raw_country]                                                                                                                                                                                                                                                                                                                                                        │ [VARCHAR, VARCHAR, VARCHAR, VARCHAR, VARCHAR]                                                                                           │ false     │\n",
       "│ patentsview │ main    │ pg_pct_data                   │ [pgpub_id, published_or_filed_date, pct_371_date, pct_102_date, filed_country, application_kind, pct_doc_number, pct_doc_type]                                                                                                                                                                                                                                                                                         │ [VARCHAR, VARCHAR, VARCHAR, VARCHAR, VARCHAR, VARCHAR, VARCHAR, VARCHAR]                                                                │ false     │\n",
       "│ patentsview │ main    │ pg_persistent_assignee        │ [pgpub_id, assignee_sequence, disamb_assignee_id_20201229, disamb_assignee_id_20210330, disamb_assignee_id_20210930, disamb_assignee_id_20211230, disamb_assignee_id_20220630, disamb_assignee_id_20220929, disamb_assignee_id_20230330, disamb_assignee_id_20230629, disamb_assignee_id_20230930, disamb_assignee_id_20231231, disamb_assignee_id_20240331, disamb_assignee_id_20240630, disamb_assignee_id_20240930] │ [VARCHAR, VARCHAR, VARCHAR, VARCHAR, VARCHAR, VARCHAR, VARCHAR, VARCHAR, VARCHAR, VARCHAR, VARCHAR, VARCHAR, VARCHAR, VARCHAR, VARCHAR] │ false     │\n",
       "│ patentsview │ main    │ pg_persistent_inventor        │ [pgpub_id, inventor_sequence, disamb_inventor_id_20210930, disamb_inventor_id_20211230, disamb_inventor_id_20220630, disamb_inventor_id_20220929, disamb_inventor_id_20230330, disamb_inventor_id_20230629, disamb_inventor_id_20230930, disamb_inventor_id_20231231, disamb_inventor_id_20240331, disamb_inventor_id_20240630, disamb_inventor_id_20240930]                                                           │ [VARCHAR, VARCHAR, VARCHAR, VARCHAR, VARCHAR, VARCHAR, VARCHAR, VARCHAR, VARCHAR, VARCHAR, VARCHAR, VARCHAR, VARCHAR]                   │ false     │\n",
       "│ patentsview │ main    │ pg_rel_app_text               │ [pgpub_id, rel_app_text]                                                                                                                                                                                                                                                                                                                                                                                               │ [VARCHAR, VARCHAR]                                                                                                                      │ false     │\n",
       "│ patentsview │ main    │ pg_us_rel_doc                 │ [pgpub_id, related_doc_number, published_country, related_doc_type, related_doc_kind, related_doc_published_date, related_doc_sequence]                                                                                                                                                                                                                                                                                │ [VARCHAR, VARCHAR, VARCHAR, VARCHAR, VARCHAR, VARCHAR, VARCHAR]                                                                         │ false     │\n",
       "│ patentsview │ main    │ pg_uspc_at_issue              │ [pgpub_id, uspc_sequence, uspc_mainclass_id, uspc_mainclass_title, uspc_subclass_id, uspc_subclass_title]                                                                                                                                                                                                                                                                                                              │ [VARCHAR, VARCHAR, VARCHAR, VARCHAR, VARCHAR, VARCHAR]                                                                                  │ false     │\n",
       "│ patentsview │ main    │ pg_wipo_technology            │ [pgpub_id, wipo_field_sequence, wipo_field_id, wipo_sector_title, wipo_field_title]                                                                                                                                                                                                                                                                                                                                    │ [VARCHAR, VARCHAR, VARCHAR, VARCHAR, VARCHAR]                                                                                           │ false     │\n",
       "├─────────────┴─────────┴───────────────────────────────┴────────────────────────────────────────────────────────────────────────────────────────────────────────────────────────────────────────────────────────────────────────────────────────────────────────────────────────────────────────────────────────────────────────────────────────────────────────────────────────────────────────────────────────────────────────────────────────────────────────────────────────┴─────────────────────────────────────────────────────────────────────────────────────────────────────────────────────────────────────────┴───────────┤\n",
       "│ 58 rows (20 shown)                                                                                                                                                                                                                                                                                                                                                                                                                                                                                                                                                                                                         6 columns │\n",
       "└──────────────────────────────────────────────────────────────────────────────────────────────────────────────────────────────────────────────────────────────────────────────────────────────────────────────────────────────────────────────────────────────────────────────────────────────────────────────────────────────────────────────────────────────────────────────────────────────────────────────────────────────────────────────────────────────────────────────────────────────────────────────────────────────────────────────────────────────────────────────────────────────────────────────────────────────────────┘"
      ]
     },
     "execution_count": 3,
     "metadata": {},
     "output_type": "execute_result"
    }
   ],
   "source": [
    "con.sql(\"show all tables;\")"
   ]
  },
  {
   "cell_type": "markdown",
   "metadata": {},
   "source": [
    "Get a single table:"
   ]
  },
  {
   "cell_type": "code",
   "execution_count": 4,
   "metadata": {},
   "outputs": [
    {
     "data": {
      "text/plain": [
       "┌───────────┬───────────────────┬──────────────────────────┬─────────────────────────┬────────────────────────┬───────────────┬───────────────────────────┐\n",
       "│ patent_id │ inventor_sequence │       inventor_id        │ raw_inventor_name_first │ raw_inventor_name_last │ deceased_flag │      rawlocation_id       │\n",
       "│  varchar  │      varchar      │         varchar          │         varchar         │        varchar         │    varchar    │          varchar          │\n",
       "├───────────┼───────────────────┼──────────────────────────┼─────────────────────────┼────────────────────────┼───────────────┼───────────────────────────┤\n",
       "│ D1006496  │ 0                 │ fl:we_ln:jiang-128       │ Wenjing                 │ Jiang                  │ 0             │ 30zgod902k0u495w9b2sb8xk9 │\n",
       "│ 12029253  │ 4                 │ fl:ei_ln:baumker-1       │ Eiko                    │ Bäumker                │ 0             │ 468lxxjgdkuh0uonw27yj3t3f │\n",
       "│ 6584128   │ 0                 │ fl:ri_ln:kroeger-1       │ Richard                 │ Kroeger                │ FALSE         │ o2ema6bl3kkh6iwziprbzu4m9 │\n",
       "│ 4789863   │ 0                 │ fl:th_ln:bush-1          │ Thomas A.               │ Bush                   │ FALSE         │ tkz70bmoqx88n1lfz3fl657lh │\n",
       "│ 11161990  │ 1                 │ fl:ma_ln:boudreaux-4     │ Matthew F.              │ Boudreaux              │ False         │ up8ym622ssh09vpqv9rdsygs0 │\n",
       "│ 6795487   │ 1                 │ fl:ge_ln:whitworth-1     │ Gerald                  │ Whitworth              │ FALSE         │ 96s3xenagksk3dyad1r777a9e │\n",
       "│ D474886   │ 0                 │ fl:th_ln:fleming-4       │ Thomas W.               │ Fleming                │ FALSE         │ cmf9hebugybql8ufffo47uwcz │\n",
       "│ 11885288  │ 3                 │ fl:du_ln:moon-7          │ Duck Su                 │ Moon                   │ 0             │ 43qw8ilmejqeei9lrroddre77 │\n",
       "│ 7646155   │ 0                 │ fl:sa_ln:woods-2         │ Samuel G                │ Woods                  │ FALSE         │ omi6wqlrblholsssk9qx0dz5b │\n",
       "│ 4339721   │ 1                 │ fl:ta_ln:hosoda-5        │ Takuya                  │ Hosoda                 │ FALSE         │ 8uifwkdu885g2jxfu2uhnzgp1 │\n",
       "│    ·      │ ·                 │         ·                │   ·                     │   ·                    │   ·           │             ·             │\n",
       "│    ·      │ ·                 │         ·                │   ·                     │   ·                    │   ·           │             ·             │\n",
       "│    ·      │ ·                 │         ·                │   ·                     │   ·                    │   ·           │             ·             │\n",
       "│ 11505755  │ 4                 │ fl:da_ln:grottenthaler-1 │ David L.                │ Grottenthaler          │ FALSE         │ q6sw37t6cclr8bsdlg4boiwlq │\n",
       "│ 6728659   │ 0                 │ fl:jo_ln:nguyen-23       │ John H.                 │ Nguyen                 │ FALSE         │ c15so94gpdqfwjq8npqx7b946 │\n",
       "│ 7088147   │ 0                 │ fl:am_ln:prasad-1        │ Ammisetti V.            │ Prasad                 │ FALSE         │ a44auv70b9w4gn53wy4ypodgu │\n",
       "│ 8638932   │ 0                 │ fl:su_ln:kim-375         │ Sun-bal                 │ Kim                    │ FALSE         │ dzu6k66x6v45b18cgbuinbhel │\n",
       "│ 5311452   │ 1                 │ fl:os_ln:kamikanda-1     │ Osamu                   │ Kamikanda              │ FALSE         │ a80n9mhetpkm0zisb6e9bkloq │\n",
       "│ 6801034   │ 0                 │ fl:je_ln:brittain-1      │ Jean Helen              │ Brittain               │ FALSE         │ x9ovl2j6a3jak06q8dfp00goq │\n",
       "│ 8300622   │ 5                 │ fl:al_ln:terzani-1       │ Alessio                 │ Terzani                │ FALSE         │ 0s43gunxdcmce2fljmwbxfsuf │\n",
       "│ 6783358   │ 1                 │ fl:do_ln:shetterly-1     │ Donivan M.              │ Shetterly              │ FALSE         │ np9om6eu7mzaja8r3xf4zyfbe │\n",
       "│ 11078904  │ 0                 │ fl:ni_ln:bornemann-1     │ Nils                    │ Bornemann              │ False         │ zbmmhwimybfnk7suf4s7nc7na │\n",
       "│ 8173567   │ 2                 │ fl:su_ln:krishnamurthy-7 │ Sujay R.                │ Krishnamurthy          │ FALSE         │ cmazu74ekxi1gfs54wkl9giul │\n",
       "├───────────┴───────────────────┴──────────────────────────┴─────────────────────────┴────────────────────────┴───────────────┴───────────────────────────┤\n",
       "│ ? rows (>9999 rows, 20 shown)                                                                                                                 7 columns │\n",
       "└─────────────────────────────────────────────────────────────────────────────────────────────────────────────────────────────────────────────────────────┘"
      ]
     },
     "execution_count": 4,
     "metadata": {},
     "output_type": "execute_result"
    }
   ],
   "source": [
    "rawinventor = con.table(\"g_inventor_not_disambiguated\")\n",
    "rawinventor"
   ]
  },
  {
   "cell_type": "markdown",
   "metadata": {},
   "source": [
    "Joining multiple tables together:"
   ]
  },
  {
   "cell_type": "code",
   "execution_count": 5,
   "metadata": {},
   "outputs": [
    {
     "data": {
      "text/plain": [
       "┌───────────┬───────────────────┬──────────────────────┬─────────────────────────┬────────────────────────┬───────────────┬───────────────────────────┬──────────────────────────────────────┬─────────────────────┬───────────┬─────────────┬─────────────┬─────────────┬───────────────────────────────────────────────────────────────────────────────────────────────────────────────────────────────────────────┬───────────┬────────────┬───────────┬─────────────────────────┐\n",
       "│ patent_id │ inventor_sequence │     inventor_id      │ raw_inventor_name_first │ raw_inventor_name_last │ deceased_flag │      rawlocation_id       │             location_id              │      raw_city       │ raw_state │ raw_country │ patent_type │ patent_date │                                                               patent_title                                                                │ wipo_kind │ num_claims │ withdrawn │        filename         │\n",
       "│  varchar  │      varchar      │       varchar        │         varchar         │        varchar         │    varchar    │          varchar          │               varchar                │       varchar       │  varchar  │   varchar   │   varchar   │   varchar   │                                                                  varchar                                                                  │  varchar  │  varchar   │  varchar  │         varchar         │\n",
       "├───────────┼───────────────────┼──────────────────────┼─────────────────────────┼────────────────────────┼───────────────┼───────────────────────────┼──────────────────────────────────────┼─────────────────────┼───────────┼─────────────┼─────────────┼─────────────┼───────────────────────────────────────────────────────────────────────────────────────────────────────────────────────────────────────────┼───────────┼────────────┼───────────┼─────────────────────────┤\n",
       "│ D557124   │ 1                 │ fl:ma_ln:wang-69     │ Martin                  │ Wang                   │ FALSE         │ 0l9lxtkwkhbxxa36d3z8ysr53 │ 90eaa921-16c8-11ed-9b5f-1234bde3cd05 │ Hsinchu             │ NULL      │ TW          │ design      │ 2007-12-11  │ Camera support bracket                                                                                                                    │ S1        │ 1          │ 0         │ ipg071211.xml           │\n",
       "│ 11555706  │ 3                 │ fl:an_ln:akametalu-1 │ Anayo Kenechukwu        │ Akametalu              │ FALSE         │ 0l9lzqzdhff05ct5nzec2sjd4 │ c8a494cf-16c7-11ed-9b5f-1234bde3cd05 │ Oakland             │ CA        │ US          │ utility     │ 2023-01-17  │ Processing graph representations of tactical maps using neural networks                                                                   │ B1        │ 20         │ 0         │ ipg230117.xml           │\n",
       "│ 11764288  │ 0                 │ fl:fe_ln:han-12      │ Feng                    │ Han                    │ 0             │ 0l9m4iwzllvt1efd6a816s92w │ 35a7da9f-16c8-11ed-9b5f-1234bde3cd05 │ Shanghai            │ NULL      │ CN          │ utility     │ 2023-09-19  │ Semiconductor device and manufacturing method thereof                                                                                     │ B2        │ 20         │ 0         │ ipg230919.xml           │\n",
       "│ 8756296   │ 0                 │ fl:zh_ln:wang-806    │ Zhibing                 │ Wang                   │ FALSE         │ 0l9m56e2i29nv1reicj114mfp │ 93778f03-16c8-11ed-9b5f-1234bde3cd05 │ Shenzhen            │ NULL      │ CN          │ utility     │ 2014-06-17  │ Method, device and system for distributing file data                                                                                      │ B2        │ 5          │ 0         │ ipg140617.xml           │\n",
       "│ 9013438   │ 2                 │ fl:st_ln:dodge-3     │ Steven P                │ Dodge                  │ FALSE         │ 0l9m674tvbes7fu7wi2bs9m4a │ 816d2d55-16c8-11ed-9b5f-1234bde3cd05 │ Sammamish           │ WA        │ US          │ utility     │ 2015-04-21  │ Touch input data handling                                                                                                                 │ B2        │ 16         │ 0         │ ipg150421.xml           │\n",
       "│ 10810193  │ 2                 │ fl:ni_ln:lao-3       │ Ni                      │ Lao                    │ FALSE         │ 0l9mbeolrmu0luaaggykp9mqn │ a26e2a3b-16c8-11ed-9b5f-1234bde3cd05 │ Mountain View       │ CA        │ US          │ utility     │ 2020-10-20  │ Querying a data graph using natural language queries                                                                                      │ B1        │ 23         │ 0         │ ipg201020.xml           │\n",
       "│ 11493852  │ 1                 │ fl:gr_ln:andersson-1 │ Greger Göte             │ Andersson              │ FALSE         │ 0l9mbku51jxtas7gl18kc36ny │ 0b34c77f-16c8-11ed-9b5f-1234bde3cd05 │ Redding             │ CT        │ US          │ utility     │ 2022-11-08  │ Noise correction for alignment signal                                                                                                     │ B2        │ 14         │ 0         │ ipg221108.xml           │\n",
       "│ 8295226   │ 0                 │ fl:hi_ln:fujii-28    │ Hiromasa                │ Fujii                  │ FALSE         │ 0l9mbzmspi6o737hjhqstn00m │ 220292d4-16c8-11ed-9b5f-1234bde3cd05 │ Yokosuka            │ NULL      │ JP          │ utility     │ 2012-10-23  │ Radio communication apparatus and method                                                                                                  │ B2        │ 10         │ 0         │ ipg121023.xml           │\n",
       "│ 7798512   │ 0                 │ fl:ki_ln:kanou-1     │ Kinya                   │ Kanou                  │ FALSE         │ 0l9mjflca77cyj803r76lm5vw │ 8d09bc30-16c8-11ed-9b5f-1234bde3cd05 │ Osaka               │ NULL      │ JP          │ utility     │ 2010-09-21  │ Bicycle                                                                                                                                   │ B2        │ 9          │ 0         │ ipg100921.xml           │\n",
       "│ D523075   │ 1                 │ fl:sh_ln:hattori-29  │ Shingo                  │ Hattori                │ FALSE         │ 0l9mmijnacvv5p6nqxkzoa3f3 │ 52f2ad2a-16c8-11ed-9b5f-1234bde3cd05 │ Tsushima            │ NULL      │ JP          │ design      │ 2006-06-13  │ Ink cartridge                                                                                                                             │ S1        │ 1          │ 0         │ ipg060613.xml           │\n",
       "│    ·      │ ·                 │        ·             │   ·                     │  ·                     │   ·           │             ·             │                  ·                   │    ·                │  ·        │ ·           │   ·         │     ·       │       ·                                                                                                                                   │ ·         │ ·          │ ·         │       ·                 │\n",
       "│    ·      │ ·                 │        ·             │   ·                     │  ·                     │   ·           │             ·             │                  ·                   │    ·                │  ·        │ ·           │   ·         │     ·       │       ·                                                                                                                                   │ ·         │ ·          │ ·         │       ·                 │\n",
       "│    ·      │ ·                 │        ·             │   ·                     │  ·                     │   ·           │             ·             │                  ·                   │    ·                │  ·        │ ·           │   ·         │     ·       │       ·                                                                                                                                   │ ·         │ ·          │ ·         │       ·                 │\n",
       "│ 8598014   │ 4                 │ fl:fr_ln:otte-1      │ Frank                   │ Otte                   │ FALSE         │ 12fn4zsrflpvbfw0grn6gfq0y │ 12020a9e-16c8-11ed-9b5f-1234bde3cd05 │ Hannover            │ NULL      │ DE          │ utility     │ 2013-12-03  │ Method for producing a semiconductor element                                                                                              │ B2        │ 27         │ 0         │ ipg131203.xml           │\n",
       "│ 5575707   │ 0                 │ fl:ho_ln:talieh-2    │ Homayoun                │ Talieh                 │ FALSE         │ 12fnqjidt1ama77rvvz1nbksf │ 13f05eea-16c8-11ed-9b5f-1234bde3cd05 │ San Jose            │ CA        │ US          │ utility     │ 1996-11-19  │ Polishing pad cluster for polishing a semiconductor wafer                                                                                 │ A         │ 15         │ 0         │ pftaps19961119_wk47.zip │\n",
       "│ 8224487   │ 6                 │ fl:ja_ln:jung-9      │ Jae Young               │ Jung                   │ FALSE         │ 12fnrp5km4qdlopgpxnhoe3oc │ 3eea8bf8-16c8-11ed-9b5f-1234bde3cd05 │ Suwon-si            │ NULL      │ KR          │ utility     │ 2012-07-17  │ Robot cleaner, docking station, robot cleaner system including robot cleaner and docking station, and method of controlling robot cleaner │ B2        │ 17         │ 0         │ ipg120717.xml           │\n",
       "│ 11723984  │ 0                 │ fl:ta_ln:yoo-7       │ Tae Hyeon               │ Yoo                    │ 0             │ 12fnwdzgrca5pnt6n1893n1aw │ 755a6338-16c8-11ed-9b5f-1234bde3cd05 │ Yongin-si           │ NULL      │ KR          │ utility     │ 2023-08-15  │ Method for conjugating antibody and physiologically active substance                                                                      │ B2        │ 1          │ 0         │ ipg230815.xml           │\n",
       "│ 11779616  │ 1                 │ fl:i-_ln:hsu-19      │ I-ling                  │ Hsu                    │ 0             │ 12fnwifa36l7ff9awwd5xgl6d │ 5bd47c9c-16c8-11ed-9b5f-1234bde3cd05 │ Tainan              │ NULL      │ TW          │ utility     │ 2023-10-10  │ Method of improving memory and learning ability                                                                                           │ B1        │ 1          │ 0         │ ipg231010.xml           │\n",
       "│ 9547929   │ 2                 │ fl:mi_ln:dorneich-1  │ Michael Christian       │ Dorneich               │ FALSE         │ 12fnynhvwpovirytxlqljedc2 │ cd861468-16c7-11ed-9b5f-1234bde3cd05 │ Saint Paul          │ MN        │ US          │ utility     │ 2017-01-17  │ User interface device for adaptive systems                                                                                                │ B1        │ 19         │ 0         │ ipg170117.xml           │\n",
       "│ 5264787   │ 2                 │ fl:ja_ln:linder-8    │ Jacques F.              │ Linder                 │ FALSE         │ 12fnzc8o1hp753750887sbbwk │ c3242e98-16c7-11ed-9b5f-1234bde3cd05 │ Rancho Palos Verdes │ CA        │ US          │ utility     │ 1993-11-23  │ Rigid-flex circuits with raised features as IC test probes                                                                                │ A         │ 15         │ 0         │ pftaps19931123_wk47.zip │\n",
       "│ 9154139   │ 0                 │ fl:ka_ln:akaike-4    │ Kazuo                   │ Akaike                 │ FALSE         │ 12fnzs939f3x8tb2ird45ncki │ 34b4468e-16c8-11ed-9b5f-1234bde3cd05 │ Saitama             │ NULL      │ JP          │ utility     │ 2015-10-06  │ Crystal controlled oscillator and oscillating device                                                                                      │ B2        │ 10         │ 0         │ ipg151006.xml           │\n",
       "│ 9964097   │ 1                 │ fl:an_ln:viselli-1   │ Anthony M.              │ Viselli                │ FALSE         │ 12fo1bpt1dfrw60ciz4qu2oyf │ 0c4c5998-16c8-11ed-9b5f-1234bde3cd05 │ Bangor              │ ME        │ US          │ utility     │ 2018-05-08  │ Floating wind turbine support system                                                                                                      │ B2        │ 22         │ 0         │ ipg180508.xml           │\n",
       "│ 5932857   │ 1                 │ fl:jo_ln:brennan-24  │ John E.                 │ Brennan                │ FALSE         │ 12fo1eov04rikkhs13cl8xqaa │ 0a999058-16c8-11ed-9b5f-1234bde3cd05 │ North Attleboro     │ MA        │ US          │ utility     │ 1999-08-03  │ Pressure switch with biaxially oriented thermoplastic diaphragm                                                                           │ A         │ 3          │ 0         │ pftaps19990803_wk31.zip │\n",
       "├───────────┴───────────────────┴──────────────────────┴─────────────────────────┴────────────────────────┴───────────────┴───────────────────────────┴──────────────────────────────────────┴─────────────────────┴───────────┴─────────────┴─────────────┴─────────────┴───────────────────────────────────────────────────────────────────────────────────────────────────────────────────────────────────────────┴───────────┴────────────┴───────────┴─────────────────────────┤\n",
       "│ ? rows (>9999 rows, 20 shown)                                                                                                                                                                                                                                                                                                                                                                                                                                          18 columns │\n",
       "└───────────────────────────────────────────────────────────────────────────────────────────────────────────────────────────────────────────────────────────────────────────────────────────────────────────────────────────────────────────────────────────────────────────────────────────────────────────────────────────────────────────────────────────────────────────────────────────────────────────────────────────────────────────────────────────────────────────────────┘"
      ]
     },
     "execution_count": 5,
     "metadata": {},
     "output_type": "execute_result"
    }
   ],
   "source": [
    "rawinventor = con.table(\"g_inventor_not_disambiguated\")\n",
    "rawlocation = con.table(\"g_location_not_disambiguated\")\n",
    "patent = con.table(\"g_patent\")\n",
    "\n",
    "rawinventor.join(rawlocation, \"rawlocation_id\", how=\"left\").join(patent, \"patent_id\", how=\"left\")"
   ]
  }
 ],
 "metadata": {
  "kernelspec": {
   "display_name": "base",
   "language": "python",
   "name": "python3"
  },
  "language_info": {
   "codemirror_mode": {
    "name": "ipython",
    "version": 3
   },
   "file_extension": ".py",
   "mimetype": "text/x-python",
   "name": "python",
   "nbconvert_exporter": "python",
   "pygments_lexer": "ipython3",
   "version": "3.12.4"
  }
 },
 "nbformat": 4,
 "nbformat_minor": 2
}
