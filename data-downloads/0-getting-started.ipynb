{
 "cells": [
  {
   "cell_type": "markdown",
   "metadata": {},
   "source": [
    "# Getting Started With PatentsView Data Downloads"
   ]
  },
  {
   "cell_type": "markdown",
   "metadata": {},
   "source": [
    "**Table of contents**<a id='toc0_'></a>    \n",
    "- 1. [Overview](#toc1_)    \n",
    "- 2. [Working With GUI Applications](#toc2_)    \n",
    "- 3. [Working With a Command Line Interface](#toc3_)    \n",
    "- 4. [Working With Python](#toc4_)    \n",
    "  - 4.1. [Using Pandas](#toc4_1_)    \n",
    "  - 4.2. [Faster Processing with PyDuckDB](#toc4_2_)    \n",
    "- 5. [Working With R](#toc5_)    \n",
    "  - 5.1. [Using Vroom](#toc5_1_)    \n",
    "  - 5.2. [Using DuckPlyR](#toc5_2_)    \n",
    "\n",
    "<!-- vscode-jupyter-toc-config\n",
    "\tnumbering=true\n",
    "\tanchor=true\n",
    "\tflat=false\n",
    "\tminLevel=2\n",
    "\tmaxLevel=6\n",
    "\t/vscode-jupyter-toc-config -->\n",
    "<!-- THIS CELL WILL BE REPLACED ON TOC UPDATE. DO NOT WRITE YOUR TEXT IN THIS CELL -->"
   ]
  },
  {
   "cell_type": "markdown",
   "metadata": {},
   "source": [
    "## 1. <a id='toc1_'></a>[Overview](#toc0_)\n",
    "\n",
    "[PatentsView](https://patentsview.org) provides downloadable patent data as a set of tab-separated values (tsv) table files. This includes data on patent grants and data on pre-grant publications.\n",
    "\n",
    "For example, on [PatentsView's Data Downloads](https://patentsview.org/download/data-download-tables) page, you can find a link to the [`g_patent`](https://s3.amazonaws.com/data.patentsview.org/download/g_patent.tsv.zip) table that contains \"data on granted patents.\" The [data dictionary page](https://patentsview.org/download/data-download-dictionary) explains the contents of this table:\n",
    "\n",
    "| Data Element Name | Definition                                                                 | Example                     | Years Present | Type          |\n",
    "|-------------------|---------------------------------------------------------------------------|-----------------------------|---------------|---------------|\n",
    "| patent_id         | patent this record corresponds to                                         | 3930271                     | all           | varchar(20)   |\n",
    "| patent_type       | category of patent. Usually \"design\", \"reissue\", etc.                     | utility                     | all           | varchar(100)  |\n",
    "| patent_date       | date when patent was granted                                              | 1/6/1976                    | all           | date          |\n",
    "| patent_title      | title of patent                                                           | Golf glove                  | all           | mediumtext    |\n",
    "| wipo_kind         | WIPO document kind codes (http://www.uspto.gov/learning-and-resources/support-centers/electronic-business-center/kind-codes-included-uspto-patent) | A                           | all           | varchar(10)   |\n",
    "| num_claims        | number of claims                                                          | 4                           | all           | int(11)       |\n",
    "| withdrawn         | whether a patent has been withdrawn or not (withdrawn = 1, not withdrawn = 0) | 0                           | all           | int(11)       |\n",
    "| filename          | name of the raw data file where patent information is parsed from         | pftaps19760106_wk01.zip     | all           | varchar(120)  |"
   ]
  },
  {
   "cell_type": "markdown",
   "metadata": {},
   "source": [
    "## 2. <a id='toc2_'></a>[Working With GUI Applications](#toc0_)\n",
    "\n",
    "PatentsView's data downloads range in size from a few Mb to multiple Gb. Many have millions of rows. To quickly preview these files, we recommend using [Tad Viewer](https://www.tadviewer.com/), a [DuckDB](https://duckdb.org/)-based desktop application to view tabular data.\n",
    "\n",
    "Microsoft Excel can be used, but only up to ~1M rows can be loaded at a time. Use [Microsoft PowerQuery](https://learn.microsoft.com/en-us/power-query/) to load and transform a selected subset of data into Excel for analysis.\n",
    "\n",
    "You can also use more specialized database software such as [DBeaver](https://dbeaver.io/) or [Datagrip](https://www.jetbrains.com/datagrip/) to load and view tables using your preferred database system."
   ]
  },
  {
   "cell_type": "markdown",
   "metadata": {},
   "source": [
    "## 3. <a id='toc3_'></a>[Working With a Command Line Interface](#toc0_)"
   ]
  },
  {
   "cell_type": "markdown",
   "metadata": {},
   "source": [
    "Download and unzip this table through your browser or using the commands below (using GNU's [wget](https://www.gnu.org/software/wget/))."
   ]
  },
  {
   "cell_type": "code",
   "execution_count": 1,
   "metadata": {},
   "outputs": [
    {
     "name": "stderr",
     "output_type": "stream",
     "text": [
      "File ‘g_patent.tsv.zip’ already there; not retrieving.\n",
      "\n"
     ]
    },
    {
     "name": "stdout",
     "output_type": "stream",
     "text": [
      "Archive:  g_patent.tsv.zip\n"
     ]
    }
   ],
   "source": [
    "%%bash\n",
    "wget --no-clobber https://s3.amazonaws.com/data.patentsview.org/download/g_patent.tsv.zip\n",
    "unzip -n g_patent.tsv.zip"
   ]
  },
  {
   "cell_type": "markdown",
   "metadata": {},
   "source": [
    "PatentsView uses tabs (`\\t`) as a field separator, and the double-quote character (`\"`) to enclose the contents of non-numeric fields. View the first two lines of `g_patent.tsv` file to validate:"
   ]
  },
  {
   "cell_type": "code",
   "execution_count": 2,
   "metadata": {},
   "outputs": [
    {
     "name": "stdout",
     "output_type": "stream",
     "text": [
      "\"patent_id\"\t\"patent_type\"\t\"patent_date\"\t\"patent_title\"\t\"wipo_kind\"\t\"num_claims\"\t\"withdrawn\"\t\"filename\"\n",
      "\"10000000\"\t\"utility\"\t\"2018-06-19\"\t\"Coherent LADAR using intra-pixel quadrature detection\"\t\"B2\"\t20\t0\t\"ipg180619.xml\"\n"
     ]
    }
   ],
   "source": [
    "%%bash\n",
    "head -n 2 g_patent.tsv"
   ]
  },
  {
   "cell_type": "markdown",
   "metadata": {},
   "source": [
    "We recommend DuckDB as an embedded analytical database engine. It can be paired with [Halequin.sh](https://harlequin.sh) or another GUI for a user-friendly experience. Here is a read-in example:"
   ]
  },
  {
   "cell_type": "code",
   "execution_count": 3,
   "metadata": {},
   "outputs": [
    {
     "name": "stdout",
     "output_type": "stream",
     "text": [
      "┌───────────┬─────────────┬─────────────┬─────────────────────────┬───────────┬────────────┬───────────┬───────────────┐\n",
      "│ patent_id │ patent_type │ patent_date │      patent_title       │ wipo_kind │ num_claims │ withdrawn │   filename    │\n",
      "│  varchar  │   varchar   │   varchar   │         varchar         │  varchar  │  varchar   │  varchar  │    varchar    │\n",
      "├───────────┼─────────────┼─────────────┼─────────────────────────┼───────────┼────────────┼───────────┼───────────────┤\n",
      "│ 10000000  │ utility     │ 2018-06-19  │ Coherent LADAR using …  │ B2        │ 20         │ 0         │ ipg180619.xml │\n",
      "│ 10000001  │ utility     │ 2018-06-19  │ Injection molding mac…  │ B2        │ 12         │ 0         │ ipg180619.xml │\n",
      "│ 10000002  │ utility     │ 2018-06-19  │ Method for manufactur…  │ B2        │ 9          │ 0         │ ipg180619.xml │\n",
      "│ 10000003  │ utility     │ 2018-06-19  │ Method for producing …  │ B2        │ 18         │ 0         │ ipg180619.xml │\n",
      "│ 10000004  │ utility     │ 2018-06-19  │ Process of obtaining …  │ B2        │ 6          │ 0         │ ipg180619.xml │\n",
      "└───────────┴─────────────┴─────────────┴─────────────────────────┴───────────┴────────────┴───────────┴───────────────┘\n"
     ]
    }
   ],
   "source": [
    "%%bash \n",
    "duckdb -c \"SELECT * FROM read_csv('g_patent.tsv', delim='\\t', all_varchar=true) LIMIT 5;\""
   ]
  },
  {
   "cell_type": "markdown",
   "metadata": {},
   "source": [
    "All data downloads are listed and documented on PatentView's website. For programmatic use, we list tables and download urls in the [`sources.yml`](sources.yml) file. For example, here is a minimal subset of tables for granted patents that we will use in examples (here using [nushell](https://www.nushell.sh/) to select from the yaml file):"
   ]
  },
  {
   "cell_type": "code",
   "execution_count": 4,
   "metadata": {},
   "outputs": [
    {
     "name": "stdout",
     "output_type": "stream",
     "text": [
      "╭───┬──────────────────────────────╮\n",
      "│ 0 │ g_patent                     │\n",
      "│ 1 │ g_location_not_disambiguated │\n",
      "│ 2 │ g_assignee_not_disambiguated │\n",
      "│ 3 │ g_inventor_not_disambiguated │\n",
      "╰───┴──────────────────────────────╯\n"
     ]
    }
   ],
   "source": [
    "%%bash\n",
    "nu -c \"open sources.yml | get granted.minimal.tables\""
   ]
  },
  {
   "cell_type": "markdown",
   "metadata": {},
   "source": [
    "## 4. <a id='toc4_'></a>[Working With Python](#toc0_)"
   ]
  },
  {
   "cell_type": "markdown",
   "metadata": {},
   "source": [
    "### 4.1. <a id='toc4_1_'></a>[Using Pandas](#toc0_)\n",
    "\n",
    "Using Pandas, you can load tables from disk or directly from their URL. Here is an example, loading the first five rows of the remote table:"
   ]
  },
  {
   "cell_type": "code",
   "execution_count": 5,
   "metadata": {},
   "outputs": [
    {
     "data": {
      "text/html": [
       "<div>\n",
       "<style scoped>\n",
       "    .dataframe tbody tr th:only-of-type {\n",
       "        vertical-align: middle;\n",
       "    }\n",
       "\n",
       "    .dataframe tbody tr th {\n",
       "        vertical-align: top;\n",
       "    }\n",
       "\n",
       "    .dataframe thead th {\n",
       "        text-align: right;\n",
       "    }\n",
       "</style>\n",
       "<table border=\"1\" class=\"dataframe\">\n",
       "  <thead>\n",
       "    <tr style=\"text-align: right;\">\n",
       "      <th></th>\n",
       "      <th>patent_id</th>\n",
       "      <th>patent_type</th>\n",
       "      <th>patent_date</th>\n",
       "      <th>patent_title</th>\n",
       "      <th>wipo_kind</th>\n",
       "      <th>num_claims</th>\n",
       "      <th>withdrawn</th>\n",
       "      <th>filename</th>\n",
       "    </tr>\n",
       "  </thead>\n",
       "  <tbody>\n",
       "    <tr>\n",
       "      <th>0</th>\n",
       "      <td>10000000</td>\n",
       "      <td>utility</td>\n",
       "      <td>2018-06-19</td>\n",
       "      <td>Coherent LADAR using intra-pixel quadrature de...</td>\n",
       "      <td>B2</td>\n",
       "      <td>20</td>\n",
       "      <td>0</td>\n",
       "      <td>ipg180619.xml</td>\n",
       "    </tr>\n",
       "    <tr>\n",
       "      <th>1</th>\n",
       "      <td>10000001</td>\n",
       "      <td>utility</td>\n",
       "      <td>2018-06-19</td>\n",
       "      <td>Injection molding machine and mold thickness c...</td>\n",
       "      <td>B2</td>\n",
       "      <td>12</td>\n",
       "      <td>0</td>\n",
       "      <td>ipg180619.xml</td>\n",
       "    </tr>\n",
       "    <tr>\n",
       "      <th>2</th>\n",
       "      <td>10000002</td>\n",
       "      <td>utility</td>\n",
       "      <td>2018-06-19</td>\n",
       "      <td>Method for manufacturing polymer film and co-e...</td>\n",
       "      <td>B2</td>\n",
       "      <td>9</td>\n",
       "      <td>0</td>\n",
       "      <td>ipg180619.xml</td>\n",
       "    </tr>\n",
       "    <tr>\n",
       "      <th>3</th>\n",
       "      <td>10000003</td>\n",
       "      <td>utility</td>\n",
       "      <td>2018-06-19</td>\n",
       "      <td>Method for producing a container from a thermo...</td>\n",
       "      <td>B2</td>\n",
       "      <td>18</td>\n",
       "      <td>0</td>\n",
       "      <td>ipg180619.xml</td>\n",
       "    </tr>\n",
       "    <tr>\n",
       "      <th>4</th>\n",
       "      <td>10000004</td>\n",
       "      <td>utility</td>\n",
       "      <td>2018-06-19</td>\n",
       "      <td>Process of obtaining a double-oriented film, c...</td>\n",
       "      <td>B2</td>\n",
       "      <td>6</td>\n",
       "      <td>0</td>\n",
       "      <td>ipg180619.xml</td>\n",
       "    </tr>\n",
       "  </tbody>\n",
       "</table>\n",
       "</div>"
      ],
      "text/plain": [
       "  patent_id patent_type patent_date  \\\n",
       "0  10000000     utility  2018-06-19   \n",
       "1  10000001     utility  2018-06-19   \n",
       "2  10000002     utility  2018-06-19   \n",
       "3  10000003     utility  2018-06-19   \n",
       "4  10000004     utility  2018-06-19   \n",
       "\n",
       "                                        patent_title wipo_kind num_claims  \\\n",
       "0  Coherent LADAR using intra-pixel quadrature de...        B2         20   \n",
       "1  Injection molding machine and mold thickness c...        B2         12   \n",
       "2  Method for manufacturing polymer film and co-e...        B2          9   \n",
       "3  Method for producing a container from a thermo...        B2         18   \n",
       "4  Process of obtaining a double-oriented film, c...        B2          6   \n",
       "\n",
       "  withdrawn       filename  \n",
       "0         0  ipg180619.xml  \n",
       "1         0  ipg180619.xml  \n",
       "2         0  ipg180619.xml  \n",
       "3         0  ipg180619.xml  \n",
       "4         0  ipg180619.xml  "
      ]
     },
     "execution_count": 5,
     "metadata": {},
     "output_type": "execute_result"
    }
   ],
   "source": [
    "import pandas as pd\n",
    "\n",
    "# Use `dtype=str` to avoid erroneous type inference, e.g. inferring `patent_id` as a number rather than a string.\n",
    "pd.read_csv(\n",
    "    \"https://s3.amazonaws.com/data.patentsview.org/download/g_patent.tsv.zip\",\n",
    "    delimiter=\"\\t\",\n",
    "    dtype=str,\n",
    "    nrows=5,\n",
    ")"
   ]
  },
  {
   "cell_type": "markdown",
   "metadata": {},
   "source": [
    "### 4.2. <a id='toc4_2_'></a>[Faster Processing with PyDuckDB](#toc0_)\n",
    "\n",
    "As a faster, more memory-efficient alternative than Pandas, we recommend using [DuckDB](https://duckdb.org/). It can be used directly, through its [Python client API](https://duckdb.org/docs/api/python/overview.html), or via [Ibis](https://ibis-project.org/) for a Pandas-like experience. Here is basic usage using the Python client API:"
   ]
  },
  {
   "cell_type": "code",
   "execution_count": 6,
   "metadata": {},
   "outputs": [
    {
     "data": {
      "text/html": [
       "<div>\n",
       "<style scoped>\n",
       "    .dataframe tbody tr th:only-of-type {\n",
       "        vertical-align: middle;\n",
       "    }\n",
       "\n",
       "    .dataframe tbody tr th {\n",
       "        vertical-align: top;\n",
       "    }\n",
       "\n",
       "    .dataframe thead th {\n",
       "        text-align: right;\n",
       "    }\n",
       "</style>\n",
       "<table border=\"1\" class=\"dataframe\">\n",
       "  <thead>\n",
       "    <tr style=\"text-align: right;\">\n",
       "      <th></th>\n",
       "      <th>patent_id</th>\n",
       "      <th>patent_type</th>\n",
       "      <th>patent_date</th>\n",
       "      <th>patent_title</th>\n",
       "      <th>wipo_kind</th>\n",
       "      <th>num_claims</th>\n",
       "      <th>withdrawn</th>\n",
       "      <th>filename</th>\n",
       "    </tr>\n",
       "  </thead>\n",
       "  <tbody>\n",
       "    <tr>\n",
       "      <th>0</th>\n",
       "      <td>10000000</td>\n",
       "      <td>utility</td>\n",
       "      <td>2018-06-19</td>\n",
       "      <td>Coherent LADAR using intra-pixel quadrature de...</td>\n",
       "      <td>B2</td>\n",
       "      <td>20</td>\n",
       "      <td>0</td>\n",
       "      <td>ipg180619.xml</td>\n",
       "    </tr>\n",
       "    <tr>\n",
       "      <th>1</th>\n",
       "      <td>10000001</td>\n",
       "      <td>utility</td>\n",
       "      <td>2018-06-19</td>\n",
       "      <td>Injection molding machine and mold thickness c...</td>\n",
       "      <td>B2</td>\n",
       "      <td>12</td>\n",
       "      <td>0</td>\n",
       "      <td>ipg180619.xml</td>\n",
       "    </tr>\n",
       "    <tr>\n",
       "      <th>2</th>\n",
       "      <td>10000002</td>\n",
       "      <td>utility</td>\n",
       "      <td>2018-06-19</td>\n",
       "      <td>Method for manufacturing polymer film and co-e...</td>\n",
       "      <td>B2</td>\n",
       "      <td>9</td>\n",
       "      <td>0</td>\n",
       "      <td>ipg180619.xml</td>\n",
       "    </tr>\n",
       "    <tr>\n",
       "      <th>3</th>\n",
       "      <td>10000003</td>\n",
       "      <td>utility</td>\n",
       "      <td>2018-06-19</td>\n",
       "      <td>Method for producing a container from a thermo...</td>\n",
       "      <td>B2</td>\n",
       "      <td>18</td>\n",
       "      <td>0</td>\n",
       "      <td>ipg180619.xml</td>\n",
       "    </tr>\n",
       "    <tr>\n",
       "      <th>4</th>\n",
       "      <td>10000004</td>\n",
       "      <td>utility</td>\n",
       "      <td>2018-06-19</td>\n",
       "      <td>Process of obtaining a double-oriented film, c...</td>\n",
       "      <td>B2</td>\n",
       "      <td>6</td>\n",
       "      <td>0</td>\n",
       "      <td>ipg180619.xml</td>\n",
       "    </tr>\n",
       "  </tbody>\n",
       "</table>\n",
       "</div>"
      ],
      "text/plain": [
       "  patent_id patent_type patent_date  \\\n",
       "0  10000000     utility  2018-06-19   \n",
       "1  10000001     utility  2018-06-19   \n",
       "2  10000002     utility  2018-06-19   \n",
       "3  10000003     utility  2018-06-19   \n",
       "4  10000004     utility  2018-06-19   \n",
       "\n",
       "                                        patent_title wipo_kind num_claims  \\\n",
       "0  Coherent LADAR using intra-pixel quadrature de...        B2         20   \n",
       "1  Injection molding machine and mold thickness c...        B2         12   \n",
       "2  Method for manufacturing polymer film and co-e...        B2          9   \n",
       "3  Method for producing a container from a thermo...        B2         18   \n",
       "4  Process of obtaining a double-oriented film, c...        B2          6   \n",
       "\n",
       "  withdrawn       filename  \n",
       "0         0  ipg180619.xml  \n",
       "1         0  ipg180619.xml  \n",
       "2         0  ipg180619.xml  \n",
       "3         0  ipg180619.xml  \n",
       "4         0  ipg180619.xml  "
      ]
     },
     "execution_count": 6,
     "metadata": {},
     "output_type": "execute_result"
    }
   ],
   "source": [
    "import duckdb\n",
    "\n",
    "con = duckdb.connect(database=\":memory:\")\n",
    "data = con.read_csv(\"g_patent.tsv\", delimiter=\"\\t\", all_varchar=True)\n",
    "\n",
    "data.limit(5).df()"
   ]
  },
  {
   "cell_type": "markdown",
   "metadata": {},
   "source": [
    "Use this function to programmatically extract tsv table files to a folder of your choice:"
   ]
  },
  {
   "cell_type": "code",
   "execution_count": 7,
   "metadata": {},
   "outputs": [
    {
     "data": {
      "text/plain": [
       "'./g_patent.tsv'"
      ]
     },
     "execution_count": 7,
     "metadata": {},
     "output_type": "execute_result"
    }
   ],
   "source": [
    "from zipfile import ZipFile\n",
    "from urllib.request import urlretrieve\n",
    "import tempfile\n",
    "import os\n",
    "\n",
    "\n",
    "def extract_from_url(zipfile_url: str, filename: str, dir: str = \".\", overwrite: bool = False):\n",
    "    filepath = os.path.join(dir, filename)\n",
    "    if overwrite or not os.path.exists(filepath):\n",
    "        with tempfile.NamedTemporaryFile() as zipped:\n",
    "            urlretrieve(zipfile_url, zipped.name)\n",
    "            with ZipFile(zipped) as zipfile:\n",
    "                zipfile.extract(filename)\n",
    "\n",
    "    return filepath\n",
    "\n",
    "\n",
    "extract_from_url(\"https://s3.amazonaws.com/data.patentsview.org/download/g_patent.tsv.zip\", \"g_patent.tsv\", dir=\".\")"
   ]
  },
  {
   "cell_type": "markdown",
   "metadata": {},
   "source": [
    "You can directly read a remote zip file with DuckDB's Python client, with some utilities:"
   ]
  },
  {
   "cell_type": "code",
   "execution_count": 8,
   "metadata": {},
   "outputs": [
    {
     "data": {
      "text/html": [
       "<div>\n",
       "<style scoped>\n",
       "    .dataframe tbody tr th:only-of-type {\n",
       "        vertical-align: middle;\n",
       "    }\n",
       "\n",
       "    .dataframe tbody tr th {\n",
       "        vertical-align: top;\n",
       "    }\n",
       "\n",
       "    .dataframe thead th {\n",
       "        text-align: right;\n",
       "    }\n",
       "</style>\n",
       "<table border=\"1\" class=\"dataframe\">\n",
       "  <thead>\n",
       "    <tr style=\"text-align: right;\">\n",
       "      <th></th>\n",
       "      <th>patent_id</th>\n",
       "      <th>patent_type</th>\n",
       "      <th>patent_date</th>\n",
       "      <th>patent_title</th>\n",
       "      <th>wipo_kind</th>\n",
       "      <th>num_claims</th>\n",
       "      <th>withdrawn</th>\n",
       "      <th>filename</th>\n",
       "    </tr>\n",
       "  </thead>\n",
       "  <tbody>\n",
       "    <tr>\n",
       "      <th>0</th>\n",
       "      <td>10000000</td>\n",
       "      <td>utility</td>\n",
       "      <td>2018-06-19</td>\n",
       "      <td>Coherent LADAR using intra-pixel quadrature de...</td>\n",
       "      <td>B2</td>\n",
       "      <td>20</td>\n",
       "      <td>0</td>\n",
       "      <td>ipg180619.xml</td>\n",
       "    </tr>\n",
       "    <tr>\n",
       "      <th>1</th>\n",
       "      <td>10000001</td>\n",
       "      <td>utility</td>\n",
       "      <td>2018-06-19</td>\n",
       "      <td>Injection molding machine and mold thickness c...</td>\n",
       "      <td>B2</td>\n",
       "      <td>12</td>\n",
       "      <td>0</td>\n",
       "      <td>ipg180619.xml</td>\n",
       "    </tr>\n",
       "    <tr>\n",
       "      <th>2</th>\n",
       "      <td>10000002</td>\n",
       "      <td>utility</td>\n",
       "      <td>2018-06-19</td>\n",
       "      <td>Method for manufacturing polymer film and co-e...</td>\n",
       "      <td>B2</td>\n",
       "      <td>9</td>\n",
       "      <td>0</td>\n",
       "      <td>ipg180619.xml</td>\n",
       "    </tr>\n",
       "    <tr>\n",
       "      <th>3</th>\n",
       "      <td>10000003</td>\n",
       "      <td>utility</td>\n",
       "      <td>2018-06-19</td>\n",
       "      <td>Method for producing a container from a thermo...</td>\n",
       "      <td>B2</td>\n",
       "      <td>18</td>\n",
       "      <td>0</td>\n",
       "      <td>ipg180619.xml</td>\n",
       "    </tr>\n",
       "    <tr>\n",
       "      <th>4</th>\n",
       "      <td>10000004</td>\n",
       "      <td>utility</td>\n",
       "      <td>2018-06-19</td>\n",
       "      <td>Process of obtaining a double-oriented film, c...</td>\n",
       "      <td>B2</td>\n",
       "      <td>6</td>\n",
       "      <td>0</td>\n",
       "      <td>ipg180619.xml</td>\n",
       "    </tr>\n",
       "  </tbody>\n",
       "</table>\n",
       "</div>"
      ],
      "text/plain": [
       "  patent_id patent_type patent_date  \\\n",
       "0  10000000     utility  2018-06-19   \n",
       "1  10000001     utility  2018-06-19   \n",
       "2  10000002     utility  2018-06-19   \n",
       "3  10000003     utility  2018-06-19   \n",
       "4  10000004     utility  2018-06-19   \n",
       "\n",
       "                                        patent_title wipo_kind num_claims  \\\n",
       "0  Coherent LADAR using intra-pixel quadrature de...        B2         20   \n",
       "1  Injection molding machine and mold thickness c...        B2         12   \n",
       "2  Method for manufacturing polymer film and co-e...        B2          9   \n",
       "3  Method for producing a container from a thermo...        B2         18   \n",
       "4  Process of obtaining a double-oriented film, c...        B2          6   \n",
       "\n",
       "  withdrawn       filename  \n",
       "0         0  ipg180619.xml  \n",
       "1         0  ipg180619.xml  \n",
       "2         0  ipg180619.xml  \n",
       "3         0  ipg180619.xml  \n",
       "4         0  ipg180619.xml  "
      ]
     },
     "execution_count": 8,
     "metadata": {},
     "output_type": "execute_result"
    }
   ],
   "source": [
    "from contextlib import contextmanager\n",
    "from io import BytesIO\n",
    "from urllib.request import urlopen\n",
    "from zipfile import ZipFile\n",
    "\n",
    "\n",
    "@contextmanager\n",
    "def zipfile_from_url(zipfile_url: str):\n",
    "    \"\"\"Open file from remote ZIP archive.\"\"\"\n",
    "    with urlopen(zipfile_url) as remote:\n",
    "        with ZipFile(BytesIO(remote.read())) as file:\n",
    "            element = file.namelist()[0]\n",
    "            yield file.open(element)\n",
    "\n",
    "\n",
    "def read_pv_duckdb(pv_table_url: str):\n",
    "    \"\"\"Read PatentsView table from URL using DuckDB.\"\"\"\n",
    "    with zipfile_from_url(pv_table_url) as file:\n",
    "        return duckdb.read_csv(file, delimiter=\"\\t\", all_varchar=True)\n",
    "\n",
    "\n",
    "table = read_pv_duckdb(\"https://s3.amazonaws.com/data.patentsview.org/download/g_patent.tsv.zip\")\n",
    "table.limit(5).df()"
   ]
  },
  {
   "cell_type": "markdown",
   "metadata": {},
   "source": [
    "## 5. <a id='toc5_'></a>[Working With R](#toc0_)\n",
    "\n",
    "Using R is similar to Python. First, we'll load the rpy2 extension to execute R code in this notebook."
   ]
  },
  {
   "cell_type": "code",
   "execution_count": 9,
   "metadata": {},
   "outputs": [],
   "source": [
    "%load_ext rpy2.ipython\n",
    "import warnings\n",
    "\n",
    "warnings.filterwarnings(\"ignore\")"
   ]
  },
  {
   "cell_type": "markdown",
   "metadata": {},
   "source": [
    "### 5.1. <a id='toc5_1_'></a>[Using Vroom](#toc0_)\n",
    "The vroom package does not support reading remote compressed files, but it can read local zip files."
   ]
  },
  {
   "cell_type": "code",
   "execution_count": 10,
   "metadata": {},
   "outputs": [
    {
     "name": "stdout",
     "output_type": "stream",
     "text": [
      "Rows: 8980130 Columns: 8\n",
      "── Column specification ────────────────────────────────────────────────────────\n",
      "Delimiter: \"\\t\"\n",
      "chr  (5): patent_id, patent_type, patent_title, wipo_kind, filename\n",
      "dbl  (2): num_claims, withdrawn\n",
      "date (1): patent_date\n",
      "\n",
      "ℹ Use `spec()` to retrieve the full column specification for this data.\n",
      "ℹ Specify the column types or set `show_col_types = FALSE` to quiet this message.\n",
      "# A tibble: 8,980,130 × 8\n",
      "   patent_id patent_type patent_date patent_title wipo_kind num_claims withdrawn\n",
      "   <chr>     <chr>       <date>      <chr>        <chr>          <dbl>     <dbl>\n",
      " 1 10000000  utility     2018-06-19  Coherent LA… B2                20         0\n",
      " 2 10000001  utility     2018-06-19  Injection m… B2                12         0\n",
      " 3 10000002  utility     2018-06-19  Method for … B2                 9         0\n",
      " 4 10000003  utility     2018-06-19  Method for … B2                18         0\n",
      " 5 10000004  utility     2018-06-19  Process of … B2                 6         0\n",
      " 6 10000005  utility     2018-06-19  Article vac… B2                 4         0\n",
      " 7 10000006  utility     2018-06-19  Thermoformi… B2                 8         0\n",
      " 8 10000007  utility     2018-06-19  PEX expandi… B2                24         0\n",
      " 9 10000008  utility     2018-06-19  Bracelet mo… B2                11         0\n",
      "10 10000009  utility     2018-06-19  Sterile env… B2                21         0\n",
      "# ℹ 8,980,120 more rows\n",
      "# ℹ 1 more variable: filename <chr>\n",
      "# ℹ Use `print(n = ...)` to see more rows\n"
     ]
    }
   ],
   "source": [
    "%%R\n",
    "library(vroom)\n",
    "\n",
    "# Vroom properly infers data types in this case.\n",
    "vroom(\"g_patent.tsv.zip\", delim = \"\\t\")"
   ]
  },
  {
   "cell_type": "markdown",
   "metadata": {},
   "source": [
    "### 5.2. <a id='toc5_2_'></a>[Using DuckPlyR](#toc0_)\n",
    "\n",
    "We recommend using the Tidyverse's [DuckPlyR](https://duckplyr.tidyverse.org/) as a user-friendly R client API for DuckDB."
   ]
  },
  {
   "cell_type": "code",
   "execution_count": 11,
   "metadata": {},
   "outputs": [
    {
     "name": "stdout",
     "output_type": "stream",
     "text": [
      "duckplyr: materializing\n",
      "# A tibble: 8,980,130 × 8\n",
      "   patent_id patent_type patent_date patent_title wipo_kind num_claims withdrawn\n",
      "   <chr>     <chr>       <chr>       <chr>        <chr>     <chr>      <chr>    \n",
      " 1 10000000  utility     2018-06-19  Coherent LA… B2        20         0        \n",
      " 2 10000001  utility     2018-06-19  Injection m… B2        12         0        \n",
      " 3 10000002  utility     2018-06-19  Method for … B2        9          0        \n",
      " 4 10000003  utility     2018-06-19  Method for … B2        18         0        \n",
      " 5 10000004  utility     2018-06-19  Process of … B2        6          0        \n",
      " 6 10000005  utility     2018-06-19  Article vac… B2        4          0        \n",
      " 7 10000006  utility     2018-06-19  Thermoformi… B2        8          0        \n",
      " 8 10000007  utility     2018-06-19  PEX expandi… B2        24         0        \n",
      " 9 10000008  utility     2018-06-19  Bracelet mo… B2        11         0        \n",
      "10 10000009  utility     2018-06-19  Sterile env… B2        21         0        \n",
      "# ℹ 8,980,120 more rows\n",
      "# ℹ 1 more variable: filename <chr>\n",
      "# ℹ Use `print(n = ...)` to see more rows\n"
     ]
    },
    {
     "data": {
      "text/plain": [
       "The duckplyr package is configured to fall back to dplyr when it encounters an\n",
       "incompatibility. Fallback events can be collected and uploaded for analysis to\n",
       "guide future development. By default, no data will be collected or uploaded.\n",
       "→ Run `duckplyr::fallback_sitrep()` to review the current settings.\n",
       "✔ Overwriting dplyr methods with duckplyr methods.\n",
       "ℹ Turn off with `duckplyr::methods_restore()`.\n",
       "\n",
       "Attachement du package : ‘duckplyr’\n",
       "\n",
       "Les objets suivants sont masqués depuis ‘package:stats’:\n",
       "\n",
       "    filter, lag\n",
       "\n",
       "Les objets suivants sont masqués depuis ‘package:base’:\n",
       "\n",
       "    intersect, setdiff, setequal, union\n",
       "\n"
      ]
     },
     "metadata": {},
     "output_type": "display_data"
    }
   ],
   "source": [
    "%%R\n",
    "library(\"duckplyr\")\n",
    "\n",
    "# Use \"string\" type to avoic errenous type inference, such as inferring `patent_id` as a number rather than a string.\n",
    "duckplyr_df_from_csv(\"g_patent.tsv\", options=list(delim=\"\\t\", all_varchar=TRUE))"
   ]
  }
 ],
 "metadata": {
  "kernelspec": {
   "display_name": "pv-code-examples",
   "language": "python",
   "name": "python3"
  },
  "language_info": {
   "codemirror_mode": {
    "name": "ipython",
    "version": 3
   },
   "file_extension": ".py",
   "mimetype": "text/x-python",
   "name": "python",
   "nbconvert_exporter": "python",
   "pygments_lexer": "ipython3",
   "version": "3.13.0"
  }
 },
 "nbformat": 4,
 "nbformat_minor": 2
}
