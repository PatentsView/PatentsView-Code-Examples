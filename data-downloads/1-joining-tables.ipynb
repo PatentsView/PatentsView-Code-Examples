{
 "cells": [
  {
   "cell_type": "markdown",
   "metadata": {},
   "source": [
    "# "
   ]
  },
  {
   "cell_type": "code",
   "execution_count": 1,
   "metadata": {},
   "outputs": [],
   "source": [
    "from zipfile import ZipFile\n",
    "from urllib.request import urlretrieve\n",
    "import duckdb\n",
    "import tempfile\n",
    "import os\n",
    "\n",
    "def extract_from_url(zipfile_url: str, filename: str, dir: str='.', overwrite: bool=False):\n",
    "    filepath = os.path.join(dir, filename)\n",
    "    if overwrite or not os.path.exists(filepath):\n",
    "        with tempfile.NamedTemporaryFile() as zipped:\n",
    "            urlretrieve(zipfile_url, zipped.name)\n",
    "            with ZipFile(zipped) as zipfile:\n",
    "                zipfile.extract(filename)\n",
    "\n",
    "    return filepath\n",
    "\n",
    "def create_pv_table(tsvfile: str, table_name: str, db: duckdb.DuckDBPyConnection, overwrite: bool=False):\n",
    "    existing_tables = db.sql(\"show tables\").df().name.values\n",
    "    \n",
    "    if overwrite or not table_name in existing_tables:\n",
    "        table = db.read_csv(tsvfile, delimiter='\\t', all_varchar=True)\n",
    "        table.create(table_name)\n"
   ]
  },
  {
   "cell_type": "markdown",
   "metadata": {},
   "source": [
    "Takes 4 seconds:"
   ]
  },
  {
   "cell_type": "code",
   "execution_count": 2,
   "metadata": {},
   "outputs": [
    {
     "data": {
      "text/plain": [
       "┌───────────┬─────────────┬─────────────┬───────────────────────────────────────────────────────────────────────────────────────────────────────────────────────────────────────────────────────────────────────────────────────────────────────────────────────────────────────────────┬───────────┬────────────┬───────────┬───────────────┐\n",
       "│ patent_id │ patent_type │ patent_date │                                                                                                                 patent_title                                                                                                                  │ wipo_kind │ num_claims │ withdrawn │   filename    │\n",
       "│  varchar  │   varchar   │   varchar   │                                                                                                                    varchar                                                                                                                    │  varchar  │  varchar   │  varchar  │    varchar    │\n",
       "├───────────┼─────────────┼─────────────┼───────────────────────────────────────────────────────────────────────────────────────────────────────────────────────────────────────────────────────────────────────────────────────────────────────────────────────────────────────────────┼───────────┼────────────┼───────────┼───────────────┤\n",
       "│ 10000000  │ utility     │ 2018-06-19  │ Coherent LADAR using intra-pixel quadrature detection                                                                                                                                                                                         │ B2        │ 20         │ 0         │ ipg180619.xml │\n",
       "│ 10000001  │ utility     │ 2018-06-19  │ Injection molding machine and mold thickness control method                                                                                                                                                                                   │ B2        │ 12         │ 0         │ ipg180619.xml │\n",
       "│ 10000002  │ utility     │ 2018-06-19  │ Method for manufacturing polymer film and co-extruded film                                                                                                                                                                                    │ B2        │ 9          │ 0         │ ipg180619.xml │\n",
       "│ 10000003  │ utility     │ 2018-06-19  │ Method for producing a container from a thermoplastic                                                                                                                                                                                         │ B2        │ 18         │ 0         │ ipg180619.xml │\n",
       "│ 10000004  │ utility     │ 2018-06-19  │ Process of obtaining a double-oriented film, co-extruded, and of low thickness made by a three bubble process that at the time of being thermoformed provides a uniform thickness in the produced tray                                        │ B2        │ 6          │ 0         │ ipg180619.xml │\n",
       "│ 10000005  │ utility     │ 2018-06-19  │ Article vacuum formation method and vacuum forming apparatus                                                                                                                                                                                  │ B2        │ 4          │ 0         │ ipg180619.xml │\n",
       "│ 10000006  │ utility     │ 2018-06-19  │ Thermoforming mold device and a process for its manufacture and use                                                                                                                                                                           │ B2        │ 8          │ 0         │ ipg180619.xml │\n",
       "│ 10000007  │ utility     │ 2018-06-19  │ PEX expanding tool                                                                                                                                                                                                                            │ B2        │ 24         │ 0         │ ipg180619.xml │\n",
       "│ 10000008  │ utility     │ 2018-06-19  │ Bracelet mold and method of use                                                                                                                                                                                                               │ B2        │ 11         │ 0         │ ipg180619.xml │\n",
       "│ 10000009  │ utility     │ 2018-06-19  │ Sterile environment for additive manufacturing                                                                                                                                                                                                │ B2        │ 21         │ 0         │ ipg180619.xml │\n",
       "│    ·      │    ·        │     ·       │                       ·                                                                                                                                                                                                                       │ ·         │ ·          │ ·         │       ·       │\n",
       "│    ·      │    ·        │     ·       │                       ·                                                                                                                                                                                                                       │ ·         │ ·          │ ·         │       ·       │\n",
       "│    ·      │    ·        │     ·       │                       ·                                                                                                                                                                                                                       │ ·         │ ·          │ ·         │       ·       │\n",
       "│ 10010079  │ utility     │ 2018-07-03  │ Uses of thaxtomin and thaxtomin compositions as herbicides                                                                                                                                                                                    │ B2        │ 7          │ 0         │ ipg180703.xml │\n",
       "│ 10010080  │ utility     │ 2018-07-03  │ Process for the production of partially polymerized antimicrobial silanol quaternary ammonium compounds                                                                                                                                       │ B2        │ 16         │ 0         │ ipg180703.xml │\n",
       "│ 10010081  │ utility     │ 2018-07-03  │ Synergistic antimicrobial preparations containing chlorite and hydrogen peroxide                                                                                                                                                              │ B2        │ 11         │ 0         │ ipg180703.xml │\n",
       "│ 10010082  │ utility     │ 2018-07-03  │ Pesticide for the extermination of Blattella germanica and a method for producing thereof                                                                                                                                                     │ B2        │ 11         │ 0         │ ipg180703.xml │\n",
       "│ 10010083  │ utility     │ 2018-07-03  │ Synergistic Bacillus thuringiensis subsp. Aizawai and Bacillus thuringiensis subsp. Kurstaki mixtures for diamondback moth, beet armyworm, sugarcane borer, soybean looper, corn earworm, cabbage looper, and southwestern corn borer control │ B2        │ 17         │ 0         │ ipg180703.xml │\n",
       "│ 10010084  │ utility     │ 2018-07-03  │ Control of insect pests                                                                                                                                                                                                                       │ B2        │ 22         │ 0         │ ipg180703.xml │\n",
       "│ 10010085  │ utility     │ 2018-07-03  │ Poultry carcass cooling and conveying system                                                                                                                                                                                                  │ B2        │ 18         │ 0         │ ipg180703.xml │\n",
       "│ 10010086  │ utility     │ 2018-07-03  │ Device and method for shelling crabs                                                                                                                                                                                                          │ B2        │ 20         │ 0         │ ipg180703.xml │\n",
       "│ 10010087  │ utility     │ 2018-07-03  │ Methods and packaging for wet aging meat                                                                                                                                                                                                      │ B1        │ 10         │ 0         │ ipg180703.xml │\n",
       "│ 10010088  │ utility     │ 2018-07-03  │ Rapid chill process for poultry carcasses                                                                                                                                                                                                     │ B2        │ 17         │ 0         │ ipg180703.xml │\n",
       "├───────────┴─────────────┴─────────────┴───────────────────────────────────────────────────────────────────────────────────────────────────────────────────────────────────────────────────────────────────────────────────────────────────────────────────────────────────────────────┴───────────┴────────────┴───────────┴───────────────┤\n",
       "│ ? rows (>9999 rows, 20 shown)                                                                                                                                                                                                                                                                                                    8 columns │\n",
       "└────────────────────────────────────────────────────────────────────────────────────────────────────────────────────────────────────────────────────────────────────────────────────────────────────────────────────────────────────────────────────────────────────────────────────────────────────────────────────────────────────────────┘"
      ]
     },
     "execution_count": 2,
     "metadata": {},
     "output_type": "execute_result"
    }
   ],
   "source": [
    "ddb = duckdb.connect('./patentsview.ddb')\n",
    "\n",
    "g_patent_path = extract_from_url('https://s3.amazonaws.com/data.patentsview.org/download/g_patent.tsv.zip', 'g_patent.tsv')\n",
    "\n",
    "csv_read_in = ddb.read_csv(g_patent_path, header=True, quotechar='\"', delimiter=\"\\t\", all_varchar=True)\n",
    "csv_read_in.write_parquet(\"g_patent.parquet\")\n",
    "\n",
    "parquet_read_in = ddb.read_parquet(\"g_patent.parquet\")\n",
    "parquet_read_in.create('g_patent')\n",
    "ddb.table('g_patent')"
   ]
  },
  {
   "cell_type": "markdown",
   "metadata": {},
   "source": [
    "Takes > 10 minutes (never finished):"
   ]
  },
  {
   "cell_type": "code",
   "execution_count": null,
   "metadata": {},
   "outputs": [
    {
     "data": {
      "application/vnd.jupyter.widget-view+json": {
       "model_id": "bcad09f500c249cab61b36a31300c043",
       "version_major": 2,
       "version_minor": 0
      },
      "text/plain": [
       "FloatProgress(value=0.0, layout=Layout(width='auto'), style=ProgressStyle(bar_color='black'))"
      ]
     },
     "metadata": {},
     "output_type": "display_data"
    }
   ],
   "source": [
    "csv_read_in.create('g_patent_from_csv')"
   ]
  }
 ],
 "metadata": {
  "kernelspec": {
   "display_name": "pv-code-examples",
   "language": "python",
   "name": "python3"
  },
  "language_info": {
   "codemirror_mode": {
    "name": "ipython",
    "version": 3
   },
   "file_extension": ".py",
   "mimetype": "text/x-python",
   "name": "python",
   "nbconvert_exporter": "python",
   "pygments_lexer": "ipython3",
   "version": "3.13.0"
  }
 },
 "nbformat": 4,
 "nbformat_minor": 2
}
